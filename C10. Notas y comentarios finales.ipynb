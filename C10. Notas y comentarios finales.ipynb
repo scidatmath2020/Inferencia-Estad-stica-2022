{
 "cells": [
  {
   "cell_type": "markdown",
   "metadata": {},
   "source": [
    "<img src=\"logo.png\">"
   ]
  },
  {
   "cell_type": "markdown",
   "metadata": {},
   "source": [
    "# Comentarios finales"
   ]
  },
  {
   "cell_type": "markdown",
   "metadata": {},
   "source": [
    "## Una concepción mas probabilística de la Estadística\n",
    "\n",
    "Sea $\\Omega$ una población de $N$ objetos sobre la cual estás interesado en analizar estadísticamente. Vamos a llamarla *espacio muestral*. Define como $2^{\\Omega}$ a la colección de todos los subconjuntos de $\\Omega$. Es decir, $2^{\\Omega}=\\{\\mathcal{S}\\,|\\,\\mathcal{S}\\subseteq\\Omega\\}$. Finalmente, define $P(\\mathcal{S})=\\#\\mathcal{S}/N$. Entonces la tercia $(\\Omega,2^{\\Omega},P)$ es un espacio de probabilidad.\n",
    "\n",
    "\n",
    "Una característica $X$ de $\\Omega$ es cualquier función $X:\\Omega\\to\\mathbb{R}$. Por lo tanto $X$ es una función medible y además:\n",
    "\n",
    "$$E[X]=\\int_\\Omega X\\,\\mathrm{d}P=\\sum_{w\\in\\Omega}X(w)$$\n",
    "\n",
    "En particular, $$E[1_\\mathcal{S}X]=\\int_SX\\mathrm{d}P=\\sum_{w\\in S}X(w)\\mbox{ y }E[1_\\mathcal{S}]=\\int_S\\mathrm{d}P=P(\\mathcal{S})=\\frac{\\#\\mathcal{S}}{N}$$"
   ]
  },
  {
   "cell_type": "markdown",
   "metadata": {},
   "source": [
    "## Probabilidad y Análisis funcional\n",
    "\n",
    "Sea $(\\Omega,\\mathcal{F},P)$ un espacio de probabilidad. Por una parte, en el espacio $L^p(\\Omega,\\mathcal{F},P)$ se tiene la norma $$\\|X\\|_p=\\left(\\int_\\Omega |X|^p\\,\\mathrm{d}P\\right)^{1/p}$$ viendo a $X$ como vector de $L^p(\\Omega,\\mathcal{F},P)$. Por otra parte, $$E[g(X)]=\\int_\\Omega g(X)\\,\\mathrm{d}P$$ para cualquier función Borel-medible, viendo a $X$ como variable aleatoria.\n",
    "\n",
    "En particular $$Var(X)=E[|X-E[X]|^2]=\\int_\\Omega|X-E[X]|^2\\,\\mathrm{d}P=\\|X-\\mu_X\\|_2^2$$ y $$Cov(X,Y)=E[(X-E[X])(Y-E[Y])]=\\langle X-\\mu_x,Y-\\mu_Y\\rangle.$$ "
   ]
  },
  {
   "cell_type": "markdown",
   "metadata": {},
   "source": [
    "Como consecuencia de lo anterior tenemos:\n",
    "\n",
    "**Correlación y dependencia lineal**\n",
    "\n",
    "Si $X,Y$ son variables aleatorias con varianza finita, entonces $$|Corr(X,Y)|=\\left|\\frac{Cov(X,Y)}{sd(X)sd(Y)}\\right|=\\left|\\frac{\\langle X-\\mu_x,Y-\\mu_Y\\rangle}{\\|X-\\mu_X\\|\\|Y-\\mu_Y\\|}\\right|\\le1$$ debido a la Desigualdad de Cauchy-Schwartz.\n",
    "\n",
    "Por lo tanto $|Corr(X,Y)|=1$ si y solo si $|\\langle X-\\mu_x,Y-\\mu_Y\\rangle|=\\|X-\\mu_X\\|\\|Y-\\mu_Y\\|$ si y solo si $Y-\\mu_Y=a(X-\\mu_X)$ para algún real $a$, si y solo si solo si $Y=aX+(\\mu_Y-a\\mu_X)$ donde $|a|=\\frac{\\sigma_Y}{\\sigma_X}$.\n"
   ]
  },
  {
   "cell_type": "markdown",
   "metadata": {},
   "source": [
    "**Regresión lineal**\n",
    "\n",
    "Sea $(\\Omega,\\mathcal{F},P)$ un espacio de probabilidad. Tomemos una v.a. $X$ con esperanza finita. Si $\\mathcal{H}\\subset\\mathcal{F}$ es una sub-$\\sigma$-álgebra de $\\mathcal{F}$, entonces se define la **esperanza condicional de $X$ respecto de $\\mathcal{H}$** como la *única* variable aleatoria $\\mathcal{H}$-medible $E[X|\\mathcal{H}]$ tal que \n",
    "\n",
    "$$\\int_A X\\,\\mathrm{d}P=\\int_A E[X|\\mathcal{H}]\\,\\mathrm{d}P$$ para todo $A\\in\\mathcal{H}$\n",
    "\n",
    "Luego, si $X_1,X_2,...,X_k$ y $Y$ son v.a. (no necesariamente independientes), todas con varianza finita, $\\mathcal{H}=\\sigma(X_1,...,X_k)$ y $S=L^2(\\Omega,\\mathcal{H},P)$, entonces:\n",
    "\n",
    "**La proyección ortogonal de $Y$ sobre $S$  es igual a $E[Y|\\mathcal{H}]$. Por lo tanto, la regresión lineal de $Y$ respecto de $X_1,X_2,...,X_k$ es $E[Y|\\mathcal{H}]$.**"
   ]
  },
  {
   "cell_type": "markdown",
   "metadata": {},
   "source": [
    "## Vaya a las bases...\n",
    "\n",
    "A menudo se me acercan personas a hacerme preguntas sobre Machine Learning e Inteligencia Artificial. \n",
    "\n",
    "Muchas veces las preguntas tienen que ver con alguna técnica de última generación y un intento de utilizarla para resolver algún problema. Mi respuesta usual a esas personas comienza por decirles que no sé de esos temas y muy probablemente de ningún otro (eso es rigurosamente cierto), pero que con mucho gusto conversaré un poco con ellos.\n",
    "\n",
    "Mi conversación siempre continua de la misma manera: **Vaya a las bases, por favor**.  Entienda que la Ciencia de datos (que es el tema que seguramente le interesa) trata de convertir masas importantes de datos en información inteligible. No se trata de presentarse como un mago de los algoritmos ultra modernos.  \n",
    "\n",
    "*A la gerencia no le importa si usted es Albert Einstein o Marie Curie. Le interesan los billetes extra que saldrán de los resultados que usted le dé.* \n",
    "\n",
    "La tentación a utilizar una  \"red neuronal hiper-piripitifláutica-tri-convolucional-integro-diferencial-cuántica-relativista\" es natural, pues todos somos curiosos y entusiatas. Sin embargo, solo es eso: una tentanción y, en algunos casos, el seguimiento a una tendencia o a una moda.\n",
    "\n",
    "Antes de atacar un problema, mire la pregunta que usted quiere contestar y los datos de que dispone. Es muy factible que, luego de un análisis razonable, usted, que ha ido a las bases, note que lo que hace falta se reduce a un cálculo de probabilidades condicionales en el que muy seguramente es complicado establecer la independencia estadística de algunas de las variables. En ese caso, use un algoritmo naive Bayes y entregue los resultados a la gerencia; estoy seguro de que se lo agradeceran. \n",
    "\n",
    "Si el problema trata de predicción de fallas, quizá baste con obtener el número medio de fallas y utilizar una distribución de Poisson. \n",
    "\n",
    "El punto es: antes de empezar a pagar infinitos cursitos, busque un buén libro de probabilidades y estadística y entienda hasta donde llega el poder de la estadísitca estándar.\n",
    "\n",
    "No es necesario utilizar un misil termonuclear para matar una cucaracha; basta con un zapato.\n",
    "\n",
    "Obviamente, si el asunto trata de reconocer rostros, hacer deep learning o manejar un auto de manera autónoma se hace necesario usar otras herramientas y ahí le diré: salte de cabeza a aprender TensorFlow o PyTorch y entréguese a la investigación.\n",
    "\n",
    "Mario Iván Caicedo."
   ]
  }
 ],
 "metadata": {
  "kernelspec": {
   "display_name": "R",
   "language": "R",
   "name": "ir"
  },
  "language_info": {
   "codemirror_mode": "r",
   "file_extension": ".r",
   "mimetype": "text/x-r-source",
   "name": "R",
   "pygments_lexer": "r",
   "version": "3.6.1"
  }
 },
 "nbformat": 4,
 "nbformat_minor": 4
}
