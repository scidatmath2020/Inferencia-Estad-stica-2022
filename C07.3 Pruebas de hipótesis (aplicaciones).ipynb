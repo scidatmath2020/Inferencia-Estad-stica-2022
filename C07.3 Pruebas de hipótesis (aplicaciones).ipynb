{
 "cells": [
  {
   "cell_type": "markdown",
   "metadata": {},
   "source": [
    "![imagenes](logo.png)"
   ]
  },
  {
   "cell_type": "markdown",
   "metadata": {},
   "source": [
    "Ya hemos visto tres conceptos importantes asociados a los contrastes de hipótesis:\n",
    "\n",
    "* Estadístico de contraste\n",
    "* Nivel de significancia\n",
    "* $p$-valor\n",
    "\n",
    "De esta manera, si conocemos el nivel de significancia $\\alpha$, la decisión que tomemos se puede basar en:\n",
    "\n",
    "* **El intervalo de confianza:** si el parámetro poblacional propuesto cae dentro de un intervalo de confianza con significancia $\\alpha$ construido a partir del estadístico de contraste, rechazamos $H_1$.\n",
    "\n",
    "* **El $p$-valor:** si el $p$-valor es mas pequeño que $\\alpha$, rechazamos $H_0$. Si el $p$-valor es mas grande que $\\alpha$, rechazamos $H_1$.\n",
    "\n",
    "En este caso, conviene basar la decisión en ambos criterios.\n",
    "\n",
    "Por otra parte, si no conocemos el nivel de significancia $\\alpha$, la decisión que tomemos se basará en el $p$-valor: si el $p$-valor es pequeño ($<0.05$), rechazamos $H_0$; si el $p$-valor es grande ($>0.1$), rechazamos $H_1$; si el $p$-valor está entre 0.05 y 0.1, se recomienda realizar mas estudios."
   ]
  },
  {
   "cell_type": "markdown",
   "metadata": {},
   "source": [
    "Población|Parámetro|$H_1$|$n$|Desviación|Estadístico de contraste|Intervalo de confianza|$p$-valor\n",
    ":--:|:--:|:--:|:--:|:--:|:--:|:--:|:--:\n",
    "Norm|$\\mu$|$>\\mu_0$|No importa|conocida|$Z=\\frac{\\overline{X}-\\mu_0}{\\sigma/\\sqrt{n}}$|$\\left(\\overline{X}-\\frac{z_{1-\\alpha}\\sigma}{\\sqrt{n}},\\infty\\right)$|$P(Z>z_0)$\n",
    "Norm|$\\mu$|$<\\mu_0$|No importa|conocida|$Z=\\frac{\\overline{X}-\\mu_0}{\\sigma/\\sqrt{n}}$|$\\left(-\\infty,\\overline{X}+\\frac{z_{1-\\alpha}\\sigma}{\\sqrt{n}}\\right)$|$P(Z<z_0)$\n",
    "Norm|$\\mu$|$!=\\mu_0$|No importa|conocida|$Z=\\frac{\\overline{X}-\\mu_0}{\\sigma/\\sqrt{n}}$|$\\left(\\overline{X}-\\frac{z_{1-\\alpha/2}\\sigma}{\\sqrt{n}},\\overline{X}+\\frac{z_{1-\\alpha/2}\\sigma}{\\sqrt{n}}\\right)$|$2P(Z>\\mid z_0\\mid)$\n",
    "Norm, Gral|$\\mu$|$>\\mu_0$|No importa|desconocida|$T=\\frac{\\overline{X}-\\mu_0}{S/\\sqrt{n}}$|$\\left(T-\\frac{t_{n-1,1-\\alpha}S}{\\sqrt{n}},\\infty\\right)$|$P(T>t_0)$\n",
    "Norm, Gral|$\\mu$|$<\\mu_0$|No importa|desconocida|$T=\\frac{\\overline{X}-\\mu_0}{S/\\sqrt{n}}$|$\\left(-\\infty,T+\\frac{t_{n-1,1-\\alpha}S}{\\sqrt{n}}\\right)$|$P(T<t_0)$\n",
    "Norm, Gral|$\\mu$|$!=\\mu_0$|No importa|desconocida|$T=\\frac{\\overline{X}-\\mu_0}{S/\\sqrt{n}}$|$\\left(T-\\frac{t_{n-1,1-\\alpha/2}S}{\\sqrt{n}},T+\\frac{t_{n-1,1-\\alpha/2}S}{\\sqrt{n}}\\right)$|$2P(T>\\mid t_0\\mid)$\n",
    "No importa|$p$|$>p_0$|No importa|No aplica|$E=Bin(n,p_0)$||$P(E\\ge x_0)$\n",
    "No importa|$p$|$<p_0$|No importa|No aplica|$E=Bin(n,p_0)$||$P(E\\le x_0)$\n",
    "No importa|$p$|$!=p_0$|No importa|No aplica|$E=Bin(n,p_0)$||$2\\min\\{P(E\\ge x_0),P(E\\le x_0)\\}$\n",
    "Norm|$\\sigma$|$>\\sigma_0$|No importa|No aplica|$\\chi^2=\\frac{(n-1)S^2}{\\sigma_0^2}$||$P(\\chi^2>\\chi^2_0)$\n",
    "Norm|$\\sigma$|$<\\sigma_0$|No importa|No aplica|$\\chi^2=\\frac{(n-1)S^2}{\\sigma_0^2}$||$P(\\chi^2<\\chi^2_0)$\n",
    "Norm|$\\sigma$|$!=\\sigma_0$|No importa|No aplica|$\\chi^2=\\frac{(n-1)S^2}{\\sigma_0^2}$||2$\\min\\{P(\\chi^2>\\chi^2_0),P(\\chi^2<\\chi^2_0)\\}$\n",
    "\n",
    "Y tenemos las decisiones:\n",
    "\n",
    "Criterio|Descripción|Decisión\n",
    ":--|:--|:--\n",
    "Intervalo de confianza|$\\theta_0\\in I$|Rechazar $H_1$\n",
    "p-valor|$>\\alpha$ o grande|Rechazar $H_1$\n"
   ]
  },
  {
   "cell_type": "markdown",
   "metadata": {},
   "source": [
    "## Pruebas de hipótesis en **R**\n",
    "\n",
    "Como podrás imaginarte, los cálculos anteriores son poco prácticos para realizarlos \"manualmente\".\n",
    "\n",
    "Para desarrollarlos mediante **R** contamos con la ya conocida paquetería ``BSDA`` para ``z.test`` y ``t.test`` para los contrastes de medias. En tanto para contrastes de proporciones contamos con la función ``binom.test``, la cual ya está incluida en **R** sin tener que instalar paqueterías extras.\n",
    "\n",
    "Además, para los contrastes de desviación contamos con la función ``sigma.test`` de la paquetería ``TeachingDemos``.\n",
    "\n",
    "Las sintaxis son las siguientes:\n",
    "\n",
    "Función|Paquetería\n",
    ":--|:--:\n",
    "``z.test(x,alternative,mu,sigma.x,conf.level)``|BSDA\n",
    "``t.test(x,alternative,mu,conf.level)``|BSDA\n",
    "``sigma.test(x,sigma,alternative,conf.level)``|TeachingDemos\n",
    "``binom.test(x,n,p,alternative,conf.level)``|Ninguna\n",
    "\n",
    "donde:\n",
    "\n",
    "``x`` son los valores de la muestra en el caso de prueba de hipótesis para la media o la desviación; en el caso de prueba de hipótesis para la proporción, es el número de éxitos.\n",
    "\n",
    "``mu`` es el valor de la media propuesta en $H_0$ para prueba de hipótesis para la media (es decir, $\\mu_0$).\n",
    "\n",
    "``sigma.x`` es el valor de la desviación en caso de conocerse.\n",
    "\n",
    "``sigma`` es el valor de la desviación propuesta en $H_0$ para prueba de hipótesis para la desviación (es decir, $\\sigma_0$)\n",
    "\n",
    "``n`` es el tamaño de la muestra.\n",
    "\n",
    "``p`` es el valor de la proporción propuesta en $H_0$ para prueba de hipótesis para la proporción (es decir, $p_0$). Recuerda que es un valor entre 0 y 1.\n",
    "\n",
    "``conf.level`` es 1-$\\alpha$.\n",
    "\n",
    "``alternative`` es el tipo de hipótesis alternativa. Puede ser ``\"two.sided\"`` (bilateral), ``\"less\"`` ($\\theta<\\theta_0$) o ``\"greater\"`` ($\\theta>\\theta_0$)\n",
    "\n",
    "\n"
   ]
  },
  {
   "cell_type": "markdown",
   "metadata": {},
   "source": [
    "***\n",
    "**Ejemplo 1.**\n",
    "\n",
    "A un productor se le ofrece un nutriente con el que obtendrá rendimientos medios superiores a 2.000 kg/ha, que es la producción usual de la zona. Se sabe que en esa población los rendimientos tienen un desvío estándar de 210 kg/ha. \n",
    "\n",
    "El productor decide realizar una prueba sobre 9 parcelas, en las que pretende observar los rendimientos, promediarlos y de acuerdo al resultado optar o no por el nuevo producto: se acuerda correr un riesgo de rechazar el nutriente cuando en realidad éste cumple con las especificaciones promocionales, fijando para ello una probabilidad de error de 5%\n",
    "\n",
    "Los resultados de las 9 parcelas fueron los siguientes: 2150, 1950, 2170, 1860, 2050, 2120, 1920, 1850, 2230.\n",
    "\n",
    "¿Existe evidencia suficiente para decir que el nutriente aumenta los rendimientos?\n",
    "\n",
    "**Solución.**\n",
    "\n",
    "Es claro que $\\mu_0=2000$, $\\sigma=210$ y $\\alpha=0.05$. Ahora, recordemos la filosofía de las pruebas de hipótesis: se busca evidencia de que $H_1$ es verdadera. Por lo tanto, $H_1$ en este caso $H_1:\\mu>2000$ (es decir, los rendimientos promedios se van a mejorar). De esta manera, se plantea el test:\n",
    "\n",
    "$$\\left\\{\\begin{array}{l}H_0:\\mu\\le2000\\\\H_1:\\mu>2000\\end{array}\\right.$$ con $\\sigma$ conocida e igual a 210 y $\\alpha=0.05$:\n",
    "\n",
    "``muestra <- c(2150, 1950, 2170, 1860, 2050, 2120, 1920, 1850, 2230)\n",
    "mu0 <- 2000\n",
    "sigma  <- 210\n",
    "alpha=0.05\n",
    "z.test(muestra,alternative=\"less\",mu=mu0,sigma.x=sigma,conf.level=1-alpha)``\n",
    "\n",
    "**Conclusión:** La muestra nos arroja un $p$-valor de 0.683 e intervalo de confianza $(-\\infty,2148.473)$ al 95% de confianza. Como el $p$-valor es suficientemente grande y la media poblacional propuesta (=2000) se encuentra en el intervalo de confianza, tenemos evidencia estadística siginificativa para rechazar $H_1$: *con un 95% de confianza afirmamos que el nutriente no obtiene rendimientos medios superiores al valor usual*  \n",
    "\n",
    "***\n",
    "***"
   ]
  },
  {
   "cell_type": "markdown",
   "metadata": {},
   "source": [
    "***\n",
    "***\n",
    "**Ejemplo 2.**\n",
    "\n",
    "En un estudio se afirma al menos 3 de 10 estudiantes universitarios trabajan. Pruebe esta aseveración, a un nivel de significación de 0.025, si una muestra aleatoria de 600 estudiantes universitarios revela que 200 de ellos trabajan.\n",
    "\n",
    "**Solución.**\n",
    "\n",
    "Es claro que $p_0=3/10=0.3$, $n=600$ y $x=200$, y $\\alpha=0.025$. Ahora, recordemos la filosofía de las pruebas de hipótesis: se busca evidencia de que $H_1$ es verdadera. Por lo tanto, $H_1$ en este caso es $H_1:p>0.3$ (es decir, al menos el 30% de los estudiantes universitarios trabajan). De esta manera, se plantea el test:\n",
    "\n",
    "$$\\left\\{\\begin{array}{l}H_0:p\\le0.3\\\\H_1:p>0.3\\end{array}\\right.$$ con $x=200$, $n=600$ y $\\alpha=0.025$:\n",
    "\n",
    "``p0 = 0.3\n",
    "exitos = 200\n",
    "tamano_muestra = 600\n",
    "alpha=0.025\n",
    "binom.test(x=exitos,n=tamano_muestra,p=p0,alternative=\"greater\",conf.level=1-alpha)``\n",
    "\n",
    "**Conclusión:** La muestra nos arroja un $p$-valor de 0.042 e intervalo de confianza $(0.295,1)$ al 97.5% de confianza. Como el $p$-valor es suficientemente grande y la media poblacional propuesta (=0.3) se encuentra en el intervalo de confianza, tenemos evidencia estadística siginificativa para rechazar $H_1$: *con un 97.5% de confianza afirmamos que no es verdad que al menos tres de cada 10 estudiantes universitarios trabajen*.  \n",
    "\n",
    "***\n",
    "***"
   ]
  },
  {
   "cell_type": "code",
   "execution_count": 5,
   "metadata": {},
   "outputs": [
    {
     "data": {
      "text/plain": [
       "\n",
       "\tOne-sample z-Test\n",
       "\n",
       "data:  muestra\n",
       "z = 0.47619, p-value = 0.683\n",
       "alternative hypothesis: true mean is less than 2000\n",
       "95 percent confidence interval:\n",
       "       NA 2148.473\n",
       "sample estimates:\n",
       "mean of x \n",
       " 2033.333 \n"
      ]
     },
     "metadata": {},
     "output_type": "display_data"
    }
   ],
   "source": [
    "#install.packages(\"BSDA\")\n",
    "library(BSDA)\n"
   ]
  },
  {
   "cell_type": "markdown",
   "metadata": {},
   "source": [
    "### Deducción de la prueba de hipótesis unilateral para la media poblacional de una población gaussiana  con desviación conocida\n",
    "\n",
    "Sea $X$ una característica poblacional con distribución gaussiana, donde se desconoce la media $\\mu$ pero se conoce la desviación $\\sigma$. Fijemos $\\mu_0$ y consideremos el contraste \n",
    "\n",
    "$$\\left\\{\\begin{array}{l}H_0:\\mu=\\mu_0\\\\H_1:\\mu>\\mu_0\\end{array}\\right.$$\n",
    "\n",
    "con una significancia $\\alpha$. Tomemos una muestra aleatoria $X_1, X_2,...,X_n$ y definamos $Z$ como $Z=\\frac{\\overline{X}-\\mu_0}{\\sigma/\\sqrt{n}}$. Nota que si $H_0$ es verdadera, entonces $Z$ es una gaussiana con media 0 y desviación 1.\n",
    "\n",
    "Recordemos que buscamos evidencia de que $H_0$ no es verdadera, por lo cual si $\\overline{X}$, la media muestral, es \"bastante\" mas grande que $\\mu_0$, tendremos esa evidencia. En símbolos: si $\\overline{X}>A$ para un cierto valor $A$ apropiado, rechazaremos $H_0$. \n",
    "\n",
    "Ahora bien, la definición de $\\alpha$ nos dice $\\alpha=P(\\mbox{rechazar }H_0\\mbox{ siendo verdadera})$, de donde $\\alpha=P(Z>A)$, así que $1-\\alpha=P(Z\\le A)$, de modo que $A$ es el cuantil $1-\\alpha$ de una normal estándar: $z_{1-\\alpha}$ (lo que en **R** se calcula como $A$=``qnorm(1-alpha,1,0)``)\n",
    "\n",
    "De esta manera: **Rechazamos $H_0$ si $Z>z_{1-\\alpha}$**. Pero como $Z=\\frac{\\overline{X}-\\mu_0}{\\sigma/\\sqrt{n}}$, lo anterior equivale a $$\\overline{X}-z_{1-\\alpha}\\frac{\\sigma}{\\sqrt{n}}>\\mu_0$$\n",
    "\n",
    "Esto es: **Rechazamos $H_0$ si** $$\\mu_0\\in\\left(\\overline{X}-z_{1-\\alpha}\\frac{\\sigma}{\\sqrt{n}},\\infty\\right)$$\n"
   ]
  }
 ],
 "metadata": {
  "kernelspec": {
   "display_name": "R",
   "language": "R",
   "name": "ir"
  },
  "language_info": {
   "codemirror_mode": "r",
   "file_extension": ".r",
   "mimetype": "text/x-r-source",
   "name": "R",
   "pygments_lexer": "r",
   "version": "3.6.1"
  }
 },
 "nbformat": 4,
 "nbformat_minor": 4
}
