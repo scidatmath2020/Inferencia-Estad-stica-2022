{
 "cells": [
  {
   "cell_type": "markdown",
   "metadata": {},
   "source": [
    "![imagenes](logo.png)"
   ]
  },
  {
   "cell_type": "markdown",
   "metadata": {},
   "source": [
    "Ya hemos visto tres conceptos importantes asociados a los contrastes de hipótesis:\n",
    "\n",
    "* Estadístico de contraste\n",
    "* Nivel de significancia\n",
    "* $p$-valor\n",
    "\n",
    "De esta manera, si conocemos el nivel de significancia $\\alpha$, la decisión que tomemos se puede basar en:\n",
    "\n",
    "* **El intervalo de confianza:** si el parámetro poblacional cae dentro de un intervalo de confianza con significancia $\\alpha$ construido a partir del estadístico de contraste, rechazamos $H_1$.\n",
    "\n",
    "* **El $p$-valor:** si el $p$-valor es mas pequeño que $\\alpha$, rechazamos $H_0$.\n",
    "\n",
    "En este caso, conviene basar la decisión en ambos criterios.\n",
    "\n",
    "Por otra parte, si no conocemos el nivel de significancia $\\alpha$, la decisión que tomemos se basará en el $p$-valor: si el $p$-valor es pequeño ($<0.05$), rechazamos $H_0$; si el $p$-valor es grande ($>0.1$), rechazamos $H_1$; si el $p$-valor está entre 0.05 y 0.1, se recomienda realizar mas estudios."
   ]
  },
  {
   "cell_type": "markdown",
   "metadata": {},
   "source": [
    "Población|Parámetro|$H_1$|$n$|Desviación|Estadístico de contraste|Intervalo de confianza|$p$-valor\n",
    ":--:|:--:|:--:|:--:|:--:|:--:|:--:|:--:\n",
    "Norm|$\\mu$|$>\\mu_0$|No importa|conocida|$Z=\\frac{\\overline{X}-\\mu_0}{\\sigma/\\sqrt{n}}$|$\\left(\\overline{X}-\\frac{z_{1-\\alpha}\\sigma}{\\sqrt{n}},\\infty\\right)$|$P(Z>z_0)$\n",
    "Norm|$\\mu$|$<\\mu_0$|No importa|conocida|$Z=\\frac{\\overline{X}-\\mu_0}{\\sigma/\\sqrt{n}}$|$\\left(-\\infty,\\overline{X}+\\frac{z_{1-\\alpha}\\sigma}{\\sqrt{n}}\\right)$|$P(Z<z_0)$\n",
    "Norm|$\\mu$|$!=\\mu_0$|No importa|conocida|$Z=\\frac{\\overline{X}-\\mu_0}{\\sigma/\\sqrt{n}}$|$\\left(\\overline{X}-\\frac{z_{1-\\alpha/2}\\sigma}{\\sqrt{n}},\\overline{X}+\\frac{z_{1-\\alpha/2}\\sigma}{\\sqrt{n}}\\right)$|$2P(Z>\\mid z_0\\mid)$\n",
    "Norm, Gral|$\\mu$|$>\\mu_0$|No importa|desconocida|$T=\\frac{\\overline{X}-\\mu_0}{S/\\sqrt{n}}$|$\\left(T-\\frac{t_{n-1,1-\\alpha}S}{\\sqrt{n}},\\infty\\right)$|$P(T>t_0)$\n",
    "Norm, Gral|$\\mu$|$<\\mu_0$|No importa|desconocida|$T=\\frac{\\overline{X}-\\mu_0}{S/\\sqrt{n}}$|$\\left(-\\infty,T+\\frac{t_{n-1,1-\\alpha}S}{\\sqrt{n}}\\right)$|$P(T<t_0)$\n",
    "Norm, Gral|$\\mu$|$!=\\mu_0$|No importa|desconocida|$T=\\frac{\\overline{X}-\\mu_0}{S/\\sqrt{n}}$|$\\left(T-\\frac{t_{n-1,1-\\alpha/2}S}{\\sqrt{n}},T+\\frac{t_{n-1,1-\\alpha/2}S}{\\sqrt{n}}\\right)$|$2P(T>\\mid t_0\\mid)$\n",
    "No importa|$p$|$>p_0$|No importa|No aplica|$E=Bin(n,p_0)$||$P(E\\ge x_0)$\n",
    "No importa|$p$|$<p_0$|No importa|No aplica|$E=Bin(n,p_0)$||$P(E\\le x_0)$\n",
    "No importa|$p$|$=p_0$|No importa|No aplica|$E=Bin(n,p_0)$||$2\\min\\{P(E\\ge x_0),P(E\\le x_0)\\}$"
   ]
  },
  {
   "cell_type": "markdown",
   "metadata": {},
   "source": [
    "# Prueba de hipótesis para la media poblacional con una población gaussiana y desviación desconocida\n",
    "\n"
   ]
  }
 ],
 "metadata": {
  "kernelspec": {
   "display_name": "R",
   "language": "R",
   "name": "ir"
  },
  "language_info": {
   "codemirror_mode": "r",
   "file_extension": ".r",
   "mimetype": "text/x-r-source",
   "name": "R",
   "pygments_lexer": "r",
   "version": "3.6.1"
  }
 },
 "nbformat": 4,
 "nbformat_minor": 4
}
