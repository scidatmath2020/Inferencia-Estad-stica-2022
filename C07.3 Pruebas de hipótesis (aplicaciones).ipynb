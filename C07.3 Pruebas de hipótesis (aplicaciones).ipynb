{
 "cells": [
  {
   "cell_type": "markdown",
   "metadata": {},
   "source": [
    "![imagenes](logo.png)"
   ]
  },
  {
   "cell_type": "markdown",
   "metadata": {},
   "source": [
    "Ya hemos visto tres conceptos importantes asociados a los contrastes de hipótesis:\n",
    "\n",
    "* Estadístico de contraste\n",
    "* Nivel de significancia\n",
    "* $p$-valor\n",
    "\n",
    "De esta manera, si conocemos el nivel de significancia $\\alpha$, la decisión que tomemos se puede basar en:\n",
    "\n",
    "* **El intervalo de confianza:** si el parámetro poblacional cae dentro de un intervalo de confianza con significancia $\\alpha$ construido a partir del estadístico de contraste, rechazamos $H_1$.\n",
    "\n",
    "* **El $p$-valor:** si el $p$-valor es mas pequeño que $\\alpha$, rechazamos $H_0$.\n",
    "\n",
    "En este caso, conviene basar la decisión en ambos criterios.\n",
    "\n",
    "Por otra parte, si no conocemos el nivel de significancia $\\alpha$, la decisión que tomemos se basará en el $p$-valor: si el $p$-valor es pequeño ($<0.05$), rechazamos $H_0$; si el $p$-valor es grande ($>0.1$), rechazamos $H_1$; si el $p$-valor está entre 0.05 y 0.1, se recomienda realizar mas estudios."
   ]
  },
  {
   "cell_type": "markdown",
   "metadata": {},
   "source": [
    "Población|Parámetro|$H_1$|$n$|Desviación|Estadístico de contraste|Intervalo de confianza|$p$-valor\n",
    ":--:|:--:|:--:|:--:|:--:|:--:|:--:|:--:\n",
    "Gaussiana|$\\mu$|$>\\mu_0$|No importa|conocida|$Z=\\frac{\\overline{X}-\\mu_0}{\\sigma/\\sqrt{n}}$|$\\left(\\overline{X}-\\frac{z_{1-\\alpha}\\sigma}{\\sqrt{n}},\\infty\\right)$\n",
    "Gaussiana|$\\mu$|$<\\mu_0$|No importa|conocida|$Z=\\frac{\\overline{X}-\\mu_0}{\\sigma/\\sqrt{n}}$|$\\left(-\\infty,\\overline{X}+\\frac{z_{1-\\alpha}\\sigma}{\\sqrt{n}}\\right)$\n",
    "Gaussiana|$\\mu$|$!=\\mu_0$|No importa|conocida|$Z=\\frac{\\overline{X}-\\mu_0}{\\sigma/\\sqrt{n}}$|$\\left(\\overline{X}-\\frac{z_{1-\\alpha}\\sigma}{\\sqrt{n}},\\overline{X}+\\frac{z_{1-\\alpha}\\sigma}{\\sqrt{n}}\\right)$\n",
    "Gaussiana|$\\mu$|$<\\mu_0$|No importa|desconocida|$T=\\frac{\\overline{X}-\\mu_0}{S/\\sqrt{n}}$\n",
    "Gaussiana|$\\mu$|$>\\mu_0$|No importa|desconocida|$T=\\frac{\\overline{X}-\\mu_0}{S/\\sqrt{n}}$\n",
    "Gaussiana|$\\mu$|$!=\\mu_0$|No importa|desconocida|$T=\\frac{\\overline{X}-\\mu_0}{S/\\sqrt{n}}$"
   ]
  }
 ],
 "metadata": {
  "kernelspec": {
   "display_name": "R",
   "language": "R",
   "name": "ir"
  },
  "language_info": {
   "codemirror_mode": "r",
   "file_extension": ".r",
   "mimetype": "text/x-r-source",
   "name": "R",
   "pygments_lexer": "r",
   "version": "3.6.1"
  }
 },
 "nbformat": 4,
 "nbformat_minor": 4
}
