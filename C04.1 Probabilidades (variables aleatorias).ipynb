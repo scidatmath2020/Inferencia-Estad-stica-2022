{
 "cells": [
  {
   "cell_type": "markdown",
   "metadata": {},
   "source": [
    "![imagenes](logo.png)"
   ]
  },
  {
   "cell_type": "markdown",
   "metadata": {},
   "source": [
    "# Probabilidad\n",
    "\n",
    "## Espacio muestral, eventos y variables aleatorias\n",
    "\n",
    "Imagina que realizas un experimento del cual desconoces el resultado final, pero tienes un *conjunto de posibles resultados*.\n",
    "\n",
    "Por ejemplo, cuando lanzas una moneda de dos caras diferentes, no importando si la moneda es justa o no, no tienes certeza de en qué lado caerá, pero sabes que caerá alguna de las dos caras.\n",
    "\n",
    "O bien, cuando tomas una persona al azar dentro de un grupo de personas, no conoces a priori su estatura."
   ]
  },
  {
   "cell_type": "markdown",
   "metadata": {},
   "source": [
    "El **cálculo de probabilidades** nace para poder medir, de alguna manera, el grado de certidumbre/incertidumbre que tiene cada uno de los posibles resultados de tu experimento."
   ]
  },
  {
   "cell_type": "markdown",
   "metadata": {},
   "source": [
    "Se define como *espacio muestral* al conjunto de todos los posibles resultados del experimento; en tanto que *evento* es cada uno de los posibles resultados. Esto signfica que el espacio muestral está formado por todos los eventos posibles de tu experimento."
   ]
  },
  {
   "cell_type": "markdown",
   "metadata": {},
   "source": [
    "Dicho esto, se nos presenta el importante concepto de **variable aleatoria** (que en Estadística está profundamente relacionado con la característica de la cual quieres hacer inferencias).\n",
    "\n",
    "Una **variable aleatoria** (abreviado como v.a.) es una *función* que le asigna un número a cada uno de los posibles resultados de tu experimento."
   ]
  },
  {
   "cell_type": "markdown",
   "metadata": {},
   "source": [
    "En otras palabras, se trata de una *máquina imaginaria* a la cual le das de comer un evento y te devuelve un número.\n",
    "\n",
    "*Notación:* las variables aleatorias suelen representarse con una letra mayúscula."
   ]
  },
  {
   "cell_type": "markdown",
   "metadata": {},
   "source": [
    "**Ejemplo.**\n",
    "\n",
    "1. Cuando lanzas una moneda con dos caras diferentes, digamos \"águila\" y \"sol\", y quieres saber cuál de las dos caras caerá, tienes cuatro eventos: \"cae águila\", \"cae sol\", \"cae águila o cae sol\" y \"no cae ni águila ni sol\". Nota que el cuarto evento es *imposible*, en tanto que el tercer evento siempre ocurre.\n",
    "\n",
    "A su vez, a cada uno de esos eventos le podemos asignar un número: $X$ es la variable aleatoria dada por\n",
    "\n",
    "$$X=\\left\\{\\begin{array}{l}1\\mbox{ si cae águila}\\\\2022\\mbox{ si cae sol}\\\\-1000\\mbox{ si no cae ni águila ni sol}\\\\15\\mbox{ si cae águila o cae sol}\\\\\\end{array}\\right.$$"
   ]
  },
  {
   "cell_type": "markdown",
   "metadata": {},
   "source": [
    "Usualmente, en Estadística la manera en que se define una variable aleatoria tiene que ver con la medida que obtenemos al observar una característica de un objeto de estudio.\n",
    "\n",
    "2. Deseas conocer cómo se relacionan las edades con cierta enfermedad que se presenta en la población. Tomas una muestra de personas que hayan sufrido o no la enfermedad y les preguntas sus edades. Para cada persona, definimos la variable aleatoria $X$ como $X=\\mbox{ edad de la persona}$."
   ]
  },
  {
   "cell_type": "markdown",
   "metadata": {},
   "source": [
    "También es importante utilizar una notación que nos ayude a tener clara nuestra información.\n",
    "\n",
    "3. Considera que te interesa saber cuántos niños de tu cuadra asistieron hoy a la escuela. Vas a ir a preguntarle a cada uno de los niños. Se define la variable aleatoria $X$ como \n",
    "\n",
    "$$X=\\left\\{\\begin{array}{l}1\\mbox{ si el niño fue a la escuela}\\\\0\\mbox{ si el niño no fue a la escuela}\\end{array}\\right.$$\n",
    "\n",
    "Por lo tanto, $X$ te dice si un niño fue o no a la escuela. Denotemos por $X_1$ a la variable aleatoria que me dice si el niño 1 fue o no a la escuela; $X_2$ es la variable aleatoria que me dice si el niño 2 fue o no a la escuela; etcétera.\n",
    "\n",
    "Entonces $X_1+X_2+...+X_n$ es la variable aleatoria que me dice cuántos niños fueron a la escuela. Hasta acá tenemos un planteamiento puramente abstracto.\n",
    "\n",
    "En seguida vamos a entrevistar a cada niño de la cuadra. Denotemos por $x_i$ a la respuesta del niño $i$: $x_1$ es la respuesta del niño 1; $x_2$ es la respuesta del niño 2; etc.\n",
    "\n",
    "De esta manera, podemos denotar la característica \"el niño asistió a la escuela\" con la misma letra $x$ (pero en minúscula) y entonces la notación $x=(x_1,x_2,...,x_n)$ es la columna, dentro de tu tabla, que te dice la información de la característica $X$ y por lo tanto \n",
    "\n",
    "$$x_1+x_2+...+x_n$$ es el total de niños que asistieron a la escuela.\n",
    "\n",
    "A los datos $x_1,x_2,...,x_n$ se les llama *observaciones*. "
   ]
  },
  {
   "cell_type": "markdown",
   "metadata": {},
   "source": [
    "## Cálculo de probabilidades\n",
    "\n",
    "Una **ley de probabilidad** es una manera de asignar un número entre 0 y 1 a los eventos de un experimento.\n",
    "\n",
    "Una vez que tenemos una variable aleatoria, podemos preguntarnos sobre la probabilidad de que dicha variable aleatoria tome o no cierto valor.\n",
    "\n",
    "Por ejemplo, en el Ejemplo 1, tenemos $$P(\\mbox{obtenemos sol})=P(X=2022)$$\n",
    "\n"
   ]
  },
  {
   "cell_type": "markdown",
   "metadata": {},
   "source": [
    "En otras palabras, si $X$ es una variable aleatoria y $w$ es cualquier número, el símbolo $$P(X=w)$$ es un número entre 0 y 1, y se interpreta en Estadística como \"qué tan frecuente es que el valor observado en la característica $X$ sea w\""
   ]
  },
  {
   "cell_type": "markdown",
   "metadata": {},
   "source": [
    "De esta manera, volvamos al Ejemplo 3: $P(X_3=0)$ es un número entre 0 y 1 y significa \"qué tan frecuente es que el tercer niño no vaya a la escuela\", en tanto que $$P(X_1+X_2+...+X_n=15)$$ siginifica \"qué tan frecuente es que vayan exactamente 15 niños a la escuela\"."
   ]
  },
  {
   "cell_type": "markdown",
   "metadata": {},
   "source": [
    "A su vez, podemos hacernos preguntas más interesantes como \"¿qué tan frecuente es que más de dos niños asistan a la escuela?\", o \"¿qué tan frecuentes es que todos los niños vayan a la escuela?\" o \"¿qué tan frecuente es que a lo más dos niños vayan a la escuela?\", lo que se representa por $P(X_1+X_2+..+X_n>2)$, $P(X_1+X_2+..+X_n=n)$ y $P(X_1+X_2+..+X_n\\le2)$, respectivamente.\n",
    "\n"
   ]
  },
  {
   "cell_type": "markdown",
   "metadata": {},
   "source": [
    "## Tipos de variables aleatorias\n",
    "\n",
    "Las podemos clasificar en general como *discretas* y *continuas*. El caso discreto es cuando hacemos conteo y el continuo cuando hacemos mediciones (informalmente, es discreta cuando el total de resultados posibles es un conjunto discreto o contable, y es continua cuando el total de resultados posibles no es contable).\n",
    "\n",
    "Las variables aleatorias usualmente, aunque hay casos excepcionales pero que no aparecen en la práctica, tiene asociados dos parámetros muy importantes: la media (o esperanza) y la varianza. "
   ]
  },
  {
   "cell_type": "markdown",
   "metadata": {},
   "source": [
    "**Función de distribución y función de densidad**.\n",
    "\n",
    "Sea $X$ una variable aleatoria. La *función de distribución* de $X$, que es denotada por $F_X$, se define como $F_X(w)=P(X\\le w)$.\n",
    "\n",
    "*Ejemplo 1)* Se lanza un dado de seis caras justo (es decir, que todas las caras tienen probabilidad de $1/6$). Sea $X$ la variable aleatoria dada por $X=\\#$ *puntos que indique el dado*. Así, $P(X=1)=P(X=2)=P(X=3)=P(X=4)=P(X=5)=P(X=6)=\\frac{1}{6}$.\n",
    "\n",
    "Por lo tanto $F_X(3)=P(X\\le 3)=P(X=1)+P(X=2)+P(X=3)=\\frac{3}{6}=\\frac{1}{2}$.\n",
    "\n",
    "En el caso discreto, se define la *función de densidad* como $f_X(w)=P(X=w)$. \n",
    "\n",
    "En el caso continuo, se define la *función de densidad* como $f_X(w)=F_X^\\prime(w)$.\n",
    "\n",
    "**Propiedades:**\n",
    "\n",
    "\n",
    "1) $0\\le F_X(w)\\le 1$.\n",
    "\n",
    "2) $F_X$ es creciente y continua por la derecha. Esto significa que si $a\\le b$ entonces $F_X(a)\\le F_Y(b)$.\n",
    "\n",
    "3) $\\lim_{w\\to\\infty}F_X(w)=1$ y $\\lim_{w\\to-\\infty}F_X(w)=0$\n",
    "\n",
    "4) $F_X(w)=P(X\\le w)=\\int_{-\\infty}^wf_X(y)\\,\\mathrm{d}y$ si $X$ es continua. Y si $X$ es discreta entonces $F_X(w)=\\sum_{k\\le w}f_X(k)$."
   ]
  },
  {
   "cell_type": "markdown",
   "metadata": {},
   "source": [
    "## Variables aleatorias importantes\n",
    "\n",
    "Dependiendo de qué es lo que quieres medir, existen diferentes tipos de variables aleatorias ya estudiadas de manera importante. A continuación presentamos algunas de ellas.\n",
    "\n",
    "1. **Bernoulli.** Se trata de un experimento con únicamente dos posibles resultados: éxito o fracaso, por lo cual son variables aleatorias que únicamente toman dos valores; la probabilidad de éxito se denota por $p$.\n",
    "\n",
    "**Ejemplo.** Vas a una feria y juegas un juego que consiste en lanzar una moneda. Si cae águila, ganas. Si cae sol, pierdes. Pero además el dueño del juego es un tramposo, y sabe que en el 75% de las ocasiones cae sol. Entonces si $X$ está dada por \n",
    "\n",
    "$$X=\\left\\{\\begin{array}{l}1\\mbox{ si cae águila}\\\\-1\\mbox{ si cae sol},\\end{array}\\right.$$\n",
    "\n",
    "tenemos que $X$ es una variable aleatoria de Bernoulli con $P(X=1)=0.25$\n",
    "\n"
   ]
  },
  {
   "cell_type": "markdown",
   "metadata": {},
   "source": [
    "2. **Binomial.** Aparece cuando tienes un conjunto cuyos elementos presentan o no una característica. Supongamos además que si tomas un elemento al azar del conjunto entonces la probabilidad de que presente la característica es $p$. La v.a. binomial $X$ mide la probabilidad de que al tomar $n$ elementos al azar de la población, exactamente $k$ de ellos presenten la característica:\n",
    "\n",
    "$$P(X=k)=\\binom{n}{k}p^k(1-p)^{n-k}$$\n",
    "\n",
    "**Ejemplo.**\n",
    "\n",
    "- Suponga que hay doce preguntas de opción múltiple en un examen de matemáticas, donde ninguna depende de la otra. Cada pregunta tiene cinco posibles respuestas, y sólo una de ellas es correcta. Cada pregunta tiene el mismo valor.\n",
    "\n",
    "a. Encuentre la probabilidad de tener cuatro o menos respuestas correctas si un estudiante intenta responder a cada pregunta al azar.\n",
    "\n",
    "b. ¿Cuál es la probabilidad de tener menos de 4 respuestas correctas?\n",
    "\n",
    "**Ejemplo.**\n",
    "\n",
    "- El 13% de la población es zurda. Se seleccionar 5 personas al azar.\n",
    "\n",
    "a. ¿Cuál es la probabilidad de que hayan 3 zurdos en el grupo?\n",
    "\n",
    "b. ¿Cuál es la probabilidad de hayan zurdos en el grupo?\n",
    "\n",
    "c. ¿Cuál es la probabilidad de que hayan al menos tres zurdos en el grupo?"
   ]
  },
  {
   "cell_type": "markdown",
   "metadata": {},
   "source": [
    "3. **Poisson.** Supongamos que quieres medir cuántas veces ocurrirá un evento en un cierto periodo de tiempo/espacio. Digamos que en promedio, ocurren $\\lambda$ éxitos en ese periodo de tiempo/espacio. Si las ocurrencias del evento son independientes entre sí, entonces el número de ocurrencias en ese periodo de tiempo/espacio es una v.a. Poisson $X$ donde \n",
    "\n",
    "$$P(X=k)=\\frac{e^{-\\lambda}\\lambda^k}{k!}$$\n",
    "\n",
    "**Ejemplo.**\n",
    "\n",
    "La veterinaria de Jorge recibe un promedio de 4 pacientes por día. Sabiendo que el número de pacientes que llegan en un día sigue una distribución de Poisson, calcular:\n",
    "\n",
    "a. La probabilidad de que lleguen 3 pacientes en un día.\n",
    "\n",
    "b. La probabilidad de que lleguen al menos 5 pacientes en un día."
   ]
  },
  {
   "cell_type": "markdown",
   "metadata": {},
   "source": [
    "4. **Geométrica.** Considera el caso en que realizas un mismo experimento varias veces, y que puedes realizarlo tantas veces como requieras. Supongamos que tienes solo dos eventos en cada repetición: éxito o fracaso. Además, el resultado en cada repetición es independiente de los demás resultados. De esta manera, sea $p$ la probabilidad de éxito en cada repetición.\n",
    "\n",
    "Si $X$ denota el número de intentos fracasados antes de obtener el primer éxito, entonces $X$ es una v.a. geométrica y se denota y \n",
    "\n",
    "$$P(X=k)=p(1-p)^k$$\n",
    "\n",
    "**Ejemplo.**\n",
    "\n",
    "La probabilidad de una alineación óptica con éxito en el montaje de un producto óptico, según especificaciones para su almacenamiento, es de 0.8. Suponga que los intentos de montaje son independientes.\n",
    "\n",
    "a. ¿Cuál es la probabilidad de que la alineación con éxito se produzca por primera vez en el quinto ensayo?\n",
    "\n",
    "b. ¿Cuál es la probabilidad de que la primera alineación con éxito requiera como mínimo cuatro intentos?"
   ]
  }
 ],
 "metadata": {
  "kernelspec": {
   "display_name": "R",
   "language": "R",
   "name": "ir"
  },
  "language_info": {
   "codemirror_mode": "r",
   "file_extension": ".r",
   "mimetype": "text/x-r-source",
   "name": "R",
   "pygments_lexer": "r",
   "version": "3.6.1"
  }
 },
 "nbformat": 4,
 "nbformat_minor": 4
}
