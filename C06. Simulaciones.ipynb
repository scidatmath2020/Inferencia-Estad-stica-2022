{
 "cells": [
  {
   "cell_type": "markdown",
   "metadata": {},
   "source": [
    "<img src=\"logo.png\">"
   ]
  },
  {
   "cell_type": "markdown",
   "metadata": {},
   "source": [
    "# Simulaciones\n",
    "\n",
    "Es momento de poner en práctica buena parte de lo aprendido hasta el momento. \n",
    "\n",
    "Dado un conjunto de datos, hacer simulación es extraer información de ese conjunto de datos para poderla *repetir* mediante la computadora y tener una buena aproximación de la realidad.  "
   ]
  },
  {
   "cell_type": "markdown",
   "metadata": {},
   "source": [
    "## Ganancia diaria promedio de un restaurante\n",
    "\n",
    "Cierto restaurante te ha contratado para estimar las ganancias diarias de su local. El lugar abre de lunes a viernes de 08:00 a 18:00 horas.\n",
    "\n",
    "Para ello, el administrador sabe que en promedio cada cliente gasta \\\\$35 con una desviación de \\\\$5. \n",
    "\n",
    "Te permite entrar un día completo a su restaurante para tomar tus datos, y obtienes que hubo 58 llegadas de clientes a lo largo del día, cada una con cierta cantidad de clientes.\n",
    "\n",
    "La información resultante la tienes en la tabla [tabla\\_llegadas\\_clientes.csv](https://github.com/scidatmath2020/Inferencia-Estad-stica-2022/blob/main/data/tabla_llegadas_clientes.csv)\n",
    "\n",
    "Con esa información, calcula la ganancia promedio aproximada durante cada día."
   ]
  }
 ],
 "metadata": {
  "kernelspec": {
   "display_name": "R",
   "language": "R",
   "name": "ir"
  },
  "language_info": {
   "codemirror_mode": "r",
   "file_extension": ".r",
   "mimetype": "text/x-r-source",
   "name": "R",
   "pygments_lexer": "r",
   "version": "3.6.1"
  }
 },
 "nbformat": 4,
 "nbformat_minor": 4
}
