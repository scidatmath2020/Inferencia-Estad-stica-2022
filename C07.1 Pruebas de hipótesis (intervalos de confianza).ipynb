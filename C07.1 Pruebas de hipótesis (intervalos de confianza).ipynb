{
 "cells": [
  {
   "cell_type": "markdown",
   "metadata": {},
   "source": [
    "<img src=\"logo.png\">"
   ]
  },
  {
   "cell_type": "markdown",
   "metadata": {},
   "source": [
    "# Intervalos de confianza\n",
    "\n",
    "Un **parámetro poblacional** es una característica que deseamos conocer en una población. Usualmente ese parámetro poblacional es desconocido y, a través de ciertas técnicas estadísticas, lo estimamos mediante una muestra. \n",
    "\n",
    "Frecuentemente los parámetros poblacionales que nos interesa medir es el valor promedio de una característica en una población; o la proporcición en la que la característica se presenta, o la desviación poblacional de cierta característica.\n",
    "\n",
    "De esta manera, si $\\theta$ es un parámetro poblacional, entonces $\\theta$ puede ser, por ejemplo, el promedio del número de delitos que sufrieron las víctimas de delito en México durante 2022, la proporción de mujeres estudiantes de ciencias que ejercerán sus carreras o el tiempo promedio de recuperación de un enfermo cuando recibe un tratamiento médico\n",
    "\n",
    "Una estimación por intervalos de confianza de un parámetro poblacional es una regla para calcular, a partir de nuestra muestra, un intervalo en el que, con una cierta probabilidad, se encuentra el valor verdadero del parámetro poblacional."
   ]
  },
  {
   "cell_type": "markdown",
   "metadata": {},
   "source": [
    "Así, si $\\theta$ es un parámetro poblacional, se dice que el intervalo $(A,B)$ es un **intervalo de confianza para $\\theta$** con nivel de significancia $\\alpha$ si $P(A<\\theta<B)=1-\\alpha$\n",
    "\n",
    "<img src=\"im008.png\">"
   ]
  },
  {
   "cell_type": "markdown",
   "metadata": {},
   "source": [
    "Al nivel de significancia $\\alpha$ se le asocia el número $1-\\alpha$, y se dice que el intervalo tiene una confianza del $(1-\\alpha)*100$ *por ciento*. En la práctica se toma $\\alpha$ como $0.01$, $0.05$ y $0.1$, por lo cual tenemos intervalos de confianza del 99%, 95% y 90%, respectivamente."
   ]
  },
  {
   "cell_type": "markdown",
   "metadata": {},
   "source": [
    "## Interpretación \n",
    "\n",
    "La interpretación de los intervalos de confianza puede resumirse de la siguiente manera: *Supongamos que nos interesa estimar el parámetro poblacional $\\theta$ de una población. Si tomamos muestras y muestras de una población y se calcula el valor del parámetro en cada una de las muestras, entonces el intervalo de confianza con significancia $\\alpha$ que construyas en cada muestra contendrá al valor verdadero del parámetro muestral un $1-\\alpha$ por ciento de las veces*."
   ]
  },
  {
   "cell_type": "markdown",
   "metadata": {},
   "source": [
    "## Intervalo de confianza para la media poblacional con varianza conocida (población normal)\n",
    "\n",
    "Supongamos que queremos medir el valor promedio de la característica $X$ de cierta población, donde $X$ es **una gaussiana con media $\\mu$ desconocida pero varianza poblacional $\\sigma$ conocida.** Es decir, queremos hallar $\\mu$.\n",
    "\n",
    "Tomemos una muestra de tamaño $n$. Sean $X_1$, $X_2$,...,$X_n$ los valores de la característica $X$ en esa muestra. Un intervalo de confianza con significancia $\\alpha$ para la media $\\mu$, conociendo la desviación poblacional $\\sigma$, es $$\\left(\\overline{X_n}-Z_{1-\\frac{\\alpha}{2}}\\frac{\\sigma}{\\sqrt{n}},\\overline{X_n}+Z_{1-\\frac{\\alpha}{2}}\\frac{\\sigma}{\\sqrt{n}}\\right),$$\n",
    "\n",
    "donde $Z_{1-\\frac{\\alpha}{2}}$ tiene los siguientes valores:\n",
    "\n",
    "$\\alpha$|1-$\\alpha$|$Z_{1-\\alpha/2}$\n",
    "--|--|--\n",
    "0.1|0.90|1.645\n",
    "0.05|0.95|1.96\n",
    "0.01|0.99|2.575\n",
    "\n",
    "**Problema 1 (simulación).**\n",
    "\n",
    "La tabla [tabla_poblacion_simulada.csv](https://github.com/scidatmath2020/Inferencia-Estad-stica-2022/blob/main/data/tabla_poblacion_simulada.csv) es un dataframe de dos columnas, ambas de una característica de tipo gaussiana tomadas de una población de tamaño 10,000 y de las cuales desconocemos el valor de la media de la población. \n",
    "\n",
    "En el caso de la desviación estándar de la columna *sd_4*, el valor es 4.\n",
    "\n",
    "1. Toma una muestra de tamaño 25 y calcula el intervalo de confianza al 95% de la media poblacional.\n",
    "\n",
    "2. El valor verdadero de la media poblacional es 20. Toma 1000 muestras de tamaño 25; construye el intervalo de confianza al 99% para cada una de esas muestras y verifica que aproximadamente en el 99% de los casos la media poblacional se encuentra en el intervalo de confianza."
   ]
  },
  {
   "cell_type": "markdown",
   "metadata": {},
   "source": [
    "Como has podido ver, el cálculo del intervalo de confianza puede ser algo tedioso.\n",
    "\n",
    "En **R** disponemos de la paquetería ``BSDA`` para hallar intervalos de confianza en el caso de población gaussiana con media desconocida y desviación conocida mediante la función ``z.test()``\n",
    "\n",
    "La sintaxis es la siguiente:\n",
    "\n",
    "``prueba <- z.test(muestra,sigma.x = desviación,conf.level = 1-alpha)``\n",
    "\n",
    "``prueba$conf.int``"
   ]
  },
  {
   "cell_type": "markdown",
   "metadata": {},
   "source": [
    "**Sustento teórico.**\n",
    "\n",
    "El sustento teorico del por qué el intervalo de confianza tiene la forma que se mostró en el caso de población gaussiana con desviación conocida y media desconocida es el siguiente resultado que vimos en la sección de variables aleatorias gaussianas:\n",
    "\n",
    "Si $X_1,X_2,...,X_n$ son gaussianas independientes, todas con media $\\mu$ y desviación $\\sigma$, y $\\overline{X}=(X_1+X_2+...+X_n)/n$, entonces $$\\frac{\\overline{X}-\\mu}{\\sigma/\\sqrt{n}}\\sim N(0,1)$$"
   ]
  },
  {
   "cell_type": "markdown",
   "metadata": {},
   "source": [
    "## Intervalo de confianza para la media poblacional con varianza desconocida (población normal)\n",
    "\n",
    "Supongamos que queremos medir el valor promedio de la característica $X$ de cierta población, donde $X$ es **una gaussiana con media $\\mu$ desconocida y varianza poblacional $\\sigma$ también desconocida.** Es decir, queremos hallar $\\mu$ sin conocer $\\sigma$. Este es el caso mas común en la práctica.\n",
    "\n",
    "Tomemos una muestra de tamaño $n$. Sean $X_1$, $X_2$,...,$X_n$ los valores de la característica $X$ en esa muestra. Un intervalo de confianza con significancia $\\alpha$ para la media $\\mu$, desconociendo la desviación poblacional $\\sigma$, es $$\\left(\\overline{X_n}-t_{n-1,1-\\frac{\\alpha}{2}}\\frac{S}{\\sqrt{n}},\\overline{X_n}+t_{n-1,1-\\frac{\\alpha}{2}}\\frac{S}{\\sqrt{n}}\\right),$$ donde $$S=\\sqrt{\\frac{(X_1-\\overline{X})^2+(X_2-\\overline{X})^2+...+(X_n-\\overline{X})^2}{n-1}}$$\n",
    "\n",
    "En **R**, en la misma paquetería ``BSDA`` viene instalada la función ``t.test()`` para encontrar intervalos de confianza para la media poblacional cuando la población es gaussiana y se desconoce la desviación. La sintaxis es \n",
    "\n",
    "``t.test(muestra,conf.level=1-alpha)``\n",
    "\n",
    "**Problema 2 (simulación).**\n",
    "\n",
    "De la tabla [tabla_poblacion_simulada.csv](https://github.com/scidatmath2020/Inferencia-Estad-stica-2022/blob/main/data/tabla_poblacion_simulada.csv) del Problema 1, se desconoce la desviación poblacional de la columna *sd_desconocida*.\n",
    "\n",
    "Toma una muestra de tamaño 25 y calcula el intervalo de confianza al 95% de la media poblacional.\n",
    "\n"
   ]
  },
  {
   "cell_type": "markdown",
   "metadata": {},
   "source": [
    "**Sustento teórico.**\n",
    "\n",
    "El sustento teorico del por qué el intervalo de confianza tiene la forma que se mostró en el caso de población gaussiana con desviación desconocida y media desconocida es el siguiente resultado que vimos en la sección de variables aleatorias gaussianas:\n",
    "\n",
    "Si $X_1,X_2,...,X_n$ son gaussianas independientes, todas con media $\\mu$ y desviación $\\sigma$, y $\\overline{X}=(X_1+X_2+...+X_n)/n$, entonces $$\\frac{\\overline{X}-\\mu}{S/\\sqrt{n}}\\sim t_{n-1}\\mbox{ ($t$ de Student con $n-1$ grados de libertad) }$$\n"
   ]
  },
  {
   "cell_type": "markdown",
   "metadata": {},
   "source": [
    "## Intervalo de confianza para la media poblacional con varianza conocida o desconocida y población cualquiera, con muestra grande ($n\\ge30$) o pequeña ($n<30$)\n",
    "\n",
    "Hasta este momento hemos hecho un supuesto muy fuerte en los dos casos anteriores: la característica $X$ de la población sigue una distribución gaussiana.\n",
    "\n",
    "El caso en que esto no sea necesariamente cierto se divide en dos: cuando tu muestra es grande ($n\\ge30$) o cuando es pequeña ($n<30$).\n",
    "\n",
    "Cuando $n$ es grande, el Teorema del Límite Central garantiza que los sustentos teóricos de los dos casos anteriores se cumplen aproximadamente, por lo cual los intervalos de confianza son los mismos que se utilizaron.\n",
    "\n",
    "En el caso en que $n$ es pequeño y la desviación es desconocida, siempre que la distribución tenga forma de \"montaña\", un buen intervalo de confianza es $$\\left(\\overline{X_n}-t_{n-1,1-\\frac{\\alpha}{2}}\\frac{S}{\\sqrt{n}},\\overline{X_n}+t_{n-1,1-\\frac{\\alpha}{2}}\\frac{S}{\\sqrt{n}}\\right),$$ donde $$S=\\sqrt{\\frac{(X_1-\\overline{X})^2+(X_2-\\overline{X})^2+...+(X_n-\\overline{X})^2}{n-1}}$$\n",
    "\n",
    "Notemos que es el mismo intervalo de confianza para el caso en que la población es gaussiana con desviación desconocida."
   ]
  },
  {
   "cell_type": "markdown",
   "metadata": {},
   "source": [
    "## En resumen... estimación del intervalo de confianza para la media poblacional\n",
    "\n",
    "<img src=\"im009.png\">"
   ]
  },
  {
   "cell_type": "markdown",
   "metadata": {},
   "source": [
    "## Ejemplos.\n",
    "\n",
    "1. Un científico interesado en vigilar contaminantes químicos en alimentos y, por lo tanto, la acumulación de contaminantes en la dieta humana, seleccionó una muestra aleatoria de 50 adultos hombres. Se encontró que el promedio de ingesta diaria de productos lácteos fue de 756gr por día, con una desviación estándar de 35gr por día. Use esta información muestral para construir un intervalo de confianza de 95% para la ingesta diaria media de productos lácteos para hombres.\n",
    "\n",
    "**Respuesta:** (746.30,765.70)\n",
    "\n",
    "\n",
    "2. La tabla *mtcars* de **R** contiene datos sobre 32 modelos de automóviles estadounidenses  producidos durante 1973. Con esa información, calcula un intervalo de confianza al 95% de las millas por galón que son capaces de recorrer todos los automóviles estadounidenses de 1973.\n",
    "\n",
    "**Respuesta:** (17.91,22.26)\n",
    "\n",
    "3. En un experimento de electrólisis, un grupo de 17 estudiantes midió la cantidad de cobre precipitado de una solución saturada de sulfato de cobre en un periodo de 45 minutos. Los 17 estudiantes obtuvieron los siguientes datos: 0.1357482, 0.1548600, 0.1941724, 0.1779920, 0.1591776, 0.1399671, 0.1390927, 0.1258081, 0.1388490, 0.1137399, 0.1154759, 0.1341601, 0.1856994, 0.1603131, 0.1227789, 0.1259683, 0.1065922. \n",
    "\n",
    "Encuentre un intervalo de confianza de 90% para la cantidad media de cobre precipitado de la\n",
    "solución en un periodo de 45 minutos.\n",
    "\n",
    "**Respuesta:** (0.13,0.15)\n",
    "\n",
    "La tabla [thermometry.csv](https://github.com/scidatmath2020/Inferencia-Estad-stica-2022/blob/main/data/thermometry.csv) contiene las medidas en grados Farenheit de la temperatura corporal de 130 personas. Construye los intervalos de confianza de 90%, 95% y 99% para la temperatura corporal media. Se *sabe* que la temperatura corporal media es de 37$C^\\circ$. ¿Crees que esto sea correcto?"
   ]
  },
  {
   "cell_type": "markdown",
   "metadata": {},
   "source": [
    "## Intervalo de confianza para una proporción.\n",
    "\n",
    "Muchos experimentos de investigación o estudios muestrales tienen como objetivo la estimación de la proporción de personas u objetos de un grupo grande, que posean cierta característica. Veamos algunos ejemplos:\n",
    "\n",
    "• La proporción de ventas que se puede esperar en un gran número de contactos de\n",
    "clientes\n",
    "\n",
    "• La proporción de semillas que germinan\n",
    "\n",
    "• La proporción de votantes \"probables\" que planean votar para un candidato político particular\n",
    "\n",
    "En este sentido, existen muchas maneras de armar intervalos de confianza para la proporción dependiendo del tamaño de la muestra. Sin embargo, para tamaños grandes, estos métodos son aproximaciones (tal como sucede en el caso de medias para muestras grandes no gaussianas).\n",
    "\n",
    "No obstante, con el uso de computadoras hoy en día puede aplicarse el mismo método a pequeñas o grandes muestras, con la ventaja de que no es un método aproximativo sino **exacto:**\n",
    "\n",
    "**Intervalo de confianza para la proporción por el método exacto.**\n",
    "\n",
    "Supongamos que tienes una característica $X$ de una población que únicamente toma dos valores: 1 si la característica está presente en el individuo y 0 si no lo está (es decir, $X$ es v.a. Bernoulli y queremos hallar el parámetro $p$). Toma una muestra de tamaño $n$ y llama $x$ al total de individuos que presentan la característica $X$ en la muestra.\n",
    "\n",
    "Un intervalo de confianza $(A,B)$ con confianza $(1-\\alpha)*100$ por ciento para la proporción que presenta la característica $X$ en toda la población se obtiene encontrando el $A$ mas grande y el $B$ mas pequeño tales que $$\\max\\left\\{\\sum_{k=x}^n\\binom{n}{k}p_0^k(1-p_0)^{n-k},\\sum_{k=0}^x\\binom{n}{k}p_1^k(1-p_1)^{n-k}\\right\\}\\le\\frac{\\alpha}{2}.$$\n"
   ]
  },
  {
   "cell_type": "markdown",
   "metadata": {},
   "source": [
    "Observa que en el problema anterior la muestra afecta al intervalo de confianza únicamente a través de su tamaño $n$ y del número de éxitos obtenidos $x$, y no directamente de la proporción $x/n$.\n",
    "\n",
    "Como te puedes imaginar, hacer los cálculos anteriores es bastante tedioso. Sin embargo, **R** cuenta con una paquetería y una función que nos ayuda a resolver este problema: el paquete ``epitools`` y la función ``binom.exact(x,n,conf.level)``"
   ]
  },
  {
   "cell_type": "markdown",
   "metadata": {},
   "source": [
    "**Ejemplos.**\n",
    "\n",
    "1. Una muestra aleatoria de 985 “probables” electores, o sea los que probablemente voten en la próxima elección, fueron encuestados durante un maratón telefónico realizado por cierto Partido. De ellos, 592 indicaron que tenían la intención de votar por ese partido. Construya un intervalo de confianza de 90% para la proporción de electores probables de la población que tienen la intención de votar por el candidato. Con base en esta información, ¿se puede concluir que el candidato ganará la elección?\n",
    "\n",
    "**Respuesta.** (0.57,0.62)\n",
    "\n",
    "2. Basados en la tabla [envipe_2022.csv](https://github.com/scidatmath2020/Inferencia-Estad-stica-2022/blob/main/data/envipe_2022.csv), hallar los intervalos al 90%, 95% y 99% de confianza de la proporcición de víctimas de delito en México durante 2021.\n"
   ]
  }
 ],
 "metadata": {
  "kernelspec": {
   "display_name": "R",
   "language": "R",
   "name": "ir"
  },
  "language_info": {
   "codemirror_mode": "r",
   "file_extension": ".r",
   "mimetype": "text/x-r-source",
   "name": "R",
   "pygments_lexer": "r",
   "version": "3.6.1"
  }
 },
 "nbformat": 4,
 "nbformat_minor": 4
}
