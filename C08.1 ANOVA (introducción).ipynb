{
 "cells": [
  {
   "cell_type": "markdown",
   "metadata": {},
   "source": [
    "![imagenes](logo.png)"
   ]
  },
  {
   "cell_type": "markdown",
   "metadata": {},
   "source": [
    "# Introducción al Análisis de la varianza (analysis of variance)\n",
    "\n",
    "Algunas veces nos interesa dividir a la población en subpoblaciones utilizando **una sola característica $F$**. Cuando este es el caso, decimos que la población está **clasificada por un factor**.\n",
    "\n",
    "Digamos que nuestra característica nos ha formado $k$ subgrupos de la población. Decimos entonces que la población está dividida en $k$ niveles del factor $F$.\n",
    "\n",
    "El **ANOVA de un solo factor** es una prueba de hipótesis para saber si las medias de cierta característica $X$ de la población son iguales en cada uno de los $k$ niveles de un factor $F$, siempre que $k>2$. \n",
    "\n",
    "Es decir, si $F$ es una característica de la población que tiene $k$ valores diferentes, y $X$ es otra característica de la población, vale la pena preguntarnos si el valor promedio de $X$ en cada una de las $k$ subpoblaciones inducidas por $F$ es el mismo.\n",
    "\n",
    "\n",
    "***\n",
    "***\n",
    "**Ejemplo 1.**\n",
    "\n",
    "Relativo a la delincuencia en México, si $F$ es la característica \"entidad donde se cometió el delito\" entonces los factores de $F$ son las 32 Entidades Federativas, de modo que $k=32$, y nos podemos preguntar si el promedio de delitos cometidos a cada víctima del delito es el mismo en las 32 entidades.\n",
    "***\n",
    "***\n",
    "\n",
    "Mas concretamente, sea $X$ una característica de la población, la cual está dividida en $k>3$ subpoblaciones. Denotemos por $\\mu_1,\\mu_2,...,\\mu_k$ a la media \"poblacional\" de $X$ en cada una de las subpoblaciones. El ANOVA de un factor es la prueba de hipótesis\n",
    "$$\\left\\{\\begin{array}{l}H_0:\\mu_1=\\mu_2=...=\\mu_k\\\\H_1:\\mbox{ existen al menos dos grupos con medias poblacionales diferentes}\\end{array}\\right.$$\n",
    "\n",
    "\n",
    "En caso de no rechazar $H_1$ (es decir, que hay al menos dos grupos con medias diferentes), debemos ser capaces, además, de identificar cuáles son las parejas de grupos cuyas medias son diferentes. \n"
   ]
  },
  {
   "cell_type": "markdown",
   "metadata": {},
   "source": [
    "## Idea general del ANOVA de un factor\n",
    "\n",
    "La idea general es:\n",
    "* Observar cómo varían los datos dentro de la población total (es decir, la varianza poblacional de toda la población).\n",
    "* Observar cómo varían los datos dentro de cada subpoblación (es decir, la varianza poblacional de cada grupo).\n",
    "* Observar cómo varían las medias de cada subpoblación respecto de la media global.\n",
    "\n",
    "De esta manera, **si la variabilidad total de los datos se puede explicar por la variabilidad de las medias de las subpoblaciones y la \"poca\" variabilidad dentro de cada subpoblación, tendremos evidencia suficiente para decir que las medias son diferentes**.\n",
    "\n",
    "En cristiano: si observamos que todos los datos varían mucho entre sí, pero dentro de cada subpoblación se parecen, entonces los promedios de cada subgrupo no pueden ser iguales.\n",
    "\n"
   ]
  },
  {
   "cell_type": "markdown",
   "metadata": {},
   "source": [
    "***\n",
    "***\n",
    "**Ejemplo 2.**\n",
    "![imagenes](im012.png)"
   ]
  },
  {
   "cell_type": "markdown",
   "metadata": {},
   "source": [
    "***\n",
    "***\n",
    "**Ejemplo 3.**\n",
    "![imagenes](im015.png)\n",
    "***\n",
    "***"
   ]
  },
  {
   "cell_type": "markdown",
   "metadata": {},
   "source": []
  }
 ],
 "metadata": {
  "kernelspec": {
   "display_name": "R",
   "language": "R",
   "name": "ir"
  },
  "language_info": {
   "codemirror_mode": "r",
   "file_extension": ".r",
   "mimetype": "text/x-r-source",
   "name": "R",
   "pygments_lexer": "r",
   "version": "3.6.1"
  }
 },
 "nbformat": 4,
 "nbformat_minor": 4
}
