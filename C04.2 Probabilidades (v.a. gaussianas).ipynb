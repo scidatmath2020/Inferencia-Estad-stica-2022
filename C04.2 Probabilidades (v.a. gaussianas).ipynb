{
 "cells": [
  {
   "cell_type": "markdown",
   "metadata": {},
   "source": [
    "<img src=\"logo.png\">"
   ]
  },
  {
   "cell_type": "markdown",
   "metadata": {},
   "source": [
    "# Variables aleatorias normales\n",
    "\n",
    "Las distribuciones normales, también llamadas gaussianas, fueron introducidas por Gauss en conexión con sus trabajos sobre errores de mediciones en fenómenos físicos. Pueden considerarse las distribuciones más importantes debido a varias razones:\n",
    "\n",
    "1. Muchos fenómenos aleatorios relacionados con experimentos sociales y naturales obedecen distribuciones gaussianas.\n",
    "\n",
    "2. Muchos tipos de variables aleatorias pueden ser aproximados con distribuciones gaussianas.\n",
    "\n",
    "3. A veces una variable aleatoria no es ni gaussiana ni puede aproximarse con gaussianas, pero pueden transformarse en gaussianas mediante transformaciones.\n",
    "\n",
    "4. Muchas variables aleatorias relacionadas con las gaussianas se utilizan para realizar pruebas de hipótesis.\n",
    "\n",
    "Así como todas las variables aleatorias especiales que hemos estudiado dependen de parámetros (la $p$ en las binomiales y geométricas; la $\\lambda$ en las de Poisson y exponenciales; $a$ y $b$ en las uniformes, etcétera), las gaussianas dependen de dos parámetros: $\\mu$ (su esperanza) y $\\sigma^2$ (su varianza).\n",
    "\n",
    "De esta manera, el hecho de que $X$ sea gaussiana con media $\\mu$ y varianza $\\sigma^2$ se denota por \n",
    "\n",
    "$$X\\sim\\mathrm{N}(\\mu,\\sigma^2)$$"
   ]
  },
  {
   "cell_type": "markdown",
   "metadata": {},
   "source": [
    "## Características\n",
    "\n",
    "Si $X\\sim\\mathrm{N}(\\mu,\\sigma^2)$, entonces \n",
    "\n",
    "$$f_X(x)=\\frac{1}{\\sigma\\sqrt{2\\pi}}e^{-\\frac{(x-\\mu)^2}{2\\sigma^2}}$$\n",
    "\n",
    "y \n",
    "\n",
    "$$F_X(x)=\\int_{-\\infty}^x\\frac{1}{\\sigma\\sqrt{2\\pi}}e^{-\\frac{(t-\\mu)^2}{2\\sigma^2}}\\,\\mathrm{d}t$$\n",
    "\n",
    "La integral anterior no puede resolverse de manera explícita, de modo que aquí entran en juego fundamental las computadores para realizar los cálculos.\n",
    "\n",
    "Además, $E[X]=\\mu$ y $Var(X)=\\sigma^2$"
   ]
  },
  {
   "cell_type": "markdown",
   "metadata": {},
   "source": [
    "## Observaciones\n",
    "\n",
    "Si $X$ es una variable aleatoria cualquiera (no importa si es discreta o continua, o de cualquier clase especial), se puede definir una nueva variable aleatoria $Z$ dada por $Z=\\frac{X-E[X]}{sd(X)}$. Luego, por las propiedades de esperanza y varianza tenemos: $E[Z]=0$ y $Var(Z)=1$. Al proceso de construir esta variable $Z$ a partir de una variable $X$ se le llama **estandarización**. Cuando una variable aleatoria cumple que su media es 0 y su varianza es 1, se dice que está **estandarizada**.\n",
    "\n",
    "Si $X\\sim\\mathrm{N}(\\mu,\\sigma^2)$, entonces $aX+b$ también es gaussiana; y de hecho $aX+b\\sim\\mathrm{N}(a\\mu+b,a^2\\sigma^2)$. \n",
    "\n",
    "Cuando $X$ es una gaussiana, su estandarización $Z$ es de gran interés. Por lo dicho en los párrafos previos, $Z$ también es gaussiana con media 1 y varianza 0. Cuando se tiene una variable aleatoria gaussiana estandarizada, su función de densidad $F_Z$ se denota por $\\Phi$. Esto es:\n",
    "\n",
    "$$\\Phi(z)=F_Z(z)=\\int_{-\\infty}^z\\frac{1}{\\sqrt{2\\pi}}e^{-t^2/2}\\,\\mathrm{d}t$$\n"
   ]
  },
  {
   "cell_type": "markdown",
   "metadata": {},
   "source": [
    "## Combinaciones lineales\n",
    "\n",
    "Supongamos que $X_1$, $X_2$,..., $X_n$ son variables aleatorias arbitrarias. Se dice que son **variables aleatorias independientes** si \n",
    "\n",
    "$$P(a_1<X_1\\le b_1\\mbox{ y }a_2<X_2\\le b_2\\mbox{ y }...\\mbox{ y }a_n<X_n\\le b_n)=P(a_1<X_1\\le b_1)P(a_2<X_2\\le b_2)...P(a_n<X_n\\le b_n)$$\n",
    "\n",
    "Esto significa que los valores que pueda tomar cualquiera de ellas no dependen de los valores que puedan tomar las otras.\n",
    "\n",
    "Dicho esto, las gaussianas tienen una propiedad que, matemáticamente, las hacen las distribuciones más importantes de todas:\n",
    "\n",
    "Si $X_1,X_2,...,X_n$ son gaussianas independientes con $X_i\\sim\\mathrm{N}(\\mu_i,\\sigma^2_i)$, entonces\n",
    "\n",
    "$$X_1+X_2+...+X_n\\sim\\mathrm{N}(\\mu_1+\\mu_2+...+\\mu_n,\\sigma_1^2+\\sigma^2_2+...+\\sigma_n^2)$$ y $$\\frac{X_1+X_2+...+X_n}{n}\\sim\\mathrm{N}\\left(\\frac{\\mu_1+\\mu_2+...+\\mu_n}{n},\\frac{\\sigma_1^2+\\sigma^2_2+...+\\sigma_n^2}{n^2}\\right)$$\n",
    "\n",
    "En particular, si $\\mu_i=\\mu$ y $\\sigma^2_i=\\sigma^2$ (es decir, todas tienen la misma media y la misma varianza), entonces\n",
    "\n",
    "$$X_1+X_2+...+X_n\\sim\\mathrm{N}(n\\mu,n\\sigma^2)$$ y $$\\frac{X_1+X_2+...+X_n}{n}\\sim\\mathrm{N}\\left(\\mu,\\frac{\\sigma^2}{n}\\right)$$\n",
    "\n",
    "Por ejemplo, supongamos que tienes una población de la cual vas a tomar una muestra de tamaño $n$ y quieres medir una característica $X$ de esa población, la cual sabes que es una v.a. gaussiana. Entonces el valor promedio de la característica $X$ vuelve a ser una gaussiana con media igual a la media poblacional y varianza igual a la varianza poblacional partido por el tamaño de la muestra."
   ]
  },
  {
   "cell_type": "markdown",
   "metadata": {},
   "source": [
    "## Gaussiana en R\n",
    "\n",
    "En **R**, las funciones relacionadas con la distribución gaussiana son las siguientes:\n",
    "\n",
    "Función|Descripción|Significado|\n",
    "--|--|--|\n",
    "dnorm|$f_X$||\n",
    "pnorm|$F_X$|$P(X\\le x)$|\n",
    "qnorm|cuantiles||\n",
    "rnorm|simulación||\n",
    "\n",
    "De esta manera, se tiene:\n",
    "\n",
    "- $f_X(x)=$`dnomr(x,mean,sd)`\n",
    "\n",
    "- $F_X(x)=$ ``pexp(x,mean,sd)``. \n",
    "\n",
    "- Si debes resolver la ecuación $P(X\\le x)=c$, entonces utilizas ``qnorm(c,mean,sd)`` \n",
    "\n",
    "- Si vas a realizar $N$ observaciones de una gaussiana utilizas ``rnorm(N,mean,sd)``"
   ]
  },
  {
   "cell_type": "markdown",
   "metadata": {},
   "source": [
    "**Ejemplo 1.**\n",
    "\n",
    "La duración de los embarazos humanos desde la concepción hasta el nacimiento se aproxima a una distribución normal con una media de 266 días y una desviación estándar de 16 días. ¿Qué proporción de todos los embarazos durará entre 240 y 270 días (aproximadamente entre 8 y 9 meses)?\n",
    "\n"
   ]
  },
  {
   "cell_type": "markdown",
   "metadata": {},
   "source": [
    "**Ejemplo 2.**\n",
    "\n",
    "La cadena Edwards's Theatre ha estudiado a sus clientes de películas para determinar cuánto dinero gastan en concesiones. El estudio reveló que la distribución del gasto tiene una distribución aproximadamente normal con una media de \\\\$4.11 y una desviación estándar de \\\\$1.37. ¿Qué porcentaje de clientes gastará menos de \\\\$3.00 en concesiones?"
   ]
  },
  {
   "cell_type": "markdown",
   "metadata": {},
   "source": [
    "**Ejemplo 3.**\n",
    "\n",
    "Se utiliza una unidad de radar para medir la velocidad de los automóviles en una autopista. Las velocidades se distribuyen normalmente con una media de 90 km/h y una varianza de 100 km/h. ¿Cuál es la probabilidad de que un automóvil elegido al azar viaje a más de 100 km/h?"
   ]
  }
 ],
 "metadata": {
  "kernelspec": {
   "display_name": "R",
   "language": "R",
   "name": "ir"
  },
  "language_info": {
   "codemirror_mode": "r",
   "file_extension": ".r",
   "mimetype": "text/x-r-source",
   "name": "R",
   "pygments_lexer": "r",
   "version": "3.6.1"
  }
 },
 "nbformat": 4,
 "nbformat_minor": 4
}
