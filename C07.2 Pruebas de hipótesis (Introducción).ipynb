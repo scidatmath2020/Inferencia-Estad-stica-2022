{
 "cells": [
  {
   "cell_type": "markdown",
   "metadata": {},
   "source": [
    "![imagenes](logo.png)"
   ]
  },
  {
   "cell_type": "markdown",
   "metadata": {},
   "source": [
    "# Introducción a las pruebas de hipótesis\n",
    "\n",
    "Hasta ahora tenemos la capacidad de decir con qué probabilidad un parámetro poblacional se encuentra en un cierto intervalo. \n",
    "\n",
    "Para que nuestras inferencias sean útiles, tendremos que tomar decisiones apoyadas en nuestra muestra para aceptar o rechazar afirmaciones sobre el valor de un parámetro poblacional.\n",
    "\n",
    "Por ejemplo, supongamos que podemos considerar un estado como seguro si el porcentaje de víctimas de delito respecto al total de su población es menor al 10%. Es decir, cuando solo una persona de cada diez de sus habitantes ha sido víctima del delito. Vayamos a un estado cualquiera. Evidentemente no podemos entrevistar a todos los habitantes, de modo que tomamos una muestra de cierto tamaño. Dependiendo del resultado obtenido en esa muestra, decidiremos si el estado es o no seguro.\n",
    "\n",
    "La afirmación \"el estado es seguro\" es lo que se conoce como una *hipótesis*, y el método que se aplica para tomar la decisión de si aceptar o no la hipótesis se llama *contraste o prueba de hipótesis.*\n",
    "\n",
    "Una prueba de hipótesis examina dos hipótesis opuestas sobre una población: la hipótesis nula $H_0$ y la hipótesis alternativa $H_1$. La hipótesis nula es la afirmación que se está comprobando. La hipótesis alternativa es la afirmación que se desea ser capaz de concluir que es verdadera basándose en la evidencia proporcionada por los datos de la muestra.\n",
    "\n",
    "**Si no obtenemos evidencia a favor de $H_1$, no podemos rechazar $H_0$ (se dice que aceptamos $H_0$ pero en realidad es un abuso de lenguaje).**\n",
    "\n",
    "Así, si $p$ es el porcentaje verdadero de víctimas de delito en nuestro estado, entonces nos planteamos\n",
    "\n",
    "$$\\left\\{\\begin{array}{l}H_0:\\mbox{ $p\\le$10}\\\\H_1:\\mbox{ $p>$10}\\end{array}\\right.$$\n",
    "\n",
    "La decisión sobre \"el estado es seguro\" (es decir, $p\\le10$) la tomaremos de la siguiente manera: tomaremos una muestra y veremos cuántos de los elegidos fueron víctimas de delito. Si el porcentaje de víctimas es suficientemente grande, lo consideraremos evidencia de $H_1$, y si no, no podemos rechazar $H_0$.\n",
    "\n",
    "En síntesis:\n",
    "\n",
    "Tipo de hipótesis|Símbolo|Descripción\n",
    "---|---|:-:\n",
    "Nula|$H_0$|Es la hipótesis que por defecto aceptamos como verdadera y rechazamos si hay pruebas en contra\n",
    "Alternativa|$H_1$|Es la hipótesis contra la que contrastamos la nula y la aceptamos cuando rechazamos la nula\n",
    "\n",
    "Lo que buscamos es construir reglas de decisión para rechazar la hipótesis nula a partir de nuestra muestra.\n",
    "\n",
    "**Para recordar...**\n",
    "\n",
    "En un juicio, el acusado es considerado inocente por defecto (Principio de presunción de inocencia). Así, \"$H_0:$ El acusado es inocente\"; por su parte la fiscalía está obligada a presentar pruebas para rechazar $H_0$; es decir, aceptar \"$H_1:$ el acusado es culpable\".\n",
    "\n",
    "Si la fiscalía no es capaz de mostrar evidencia a favor de $H_1$, entonces no hay evidencia para rechazar $H_0$ y el acusado se declara **no culpable**, que no es lo mismo que decir que es inocente."
   ]
  },
  {
   "cell_type": "markdown",
   "metadata": {},
   "source": [
    "## Selección de $H_0$ y $H_1$\n",
    "\n",
    "Recordemos que buscamos evidencia a favor de $H_1$. \n",
    "\n",
    "Por otra parte, si $\\theta$ es un parámetro poblacional, en la práctica es imposible encontra evidencias de que $\\theta$ vale exactamente cierto número $\\theta_0$ si no contamos con suficiente información (lo cual sucede la mayoría de las veces). En cambio, sí podemos hallar evidencias de que $\\theta$ es menor, mayor o distinto a $\\theta_0$. \n",
    "\n",
    "De los dos párrafos anteriores, deducimos que la hipótesis alternativa siempre debe ser de la forma $H_1:\\theta<\\theta_0$, o $H_1:\\theta>\\theta_0$ o $H_1:\\theta\\neq\\theta_0$. Es decir, la hipótesis alternativa **nunca lleva signos de igualdad** (no puede ser $=$ ni $\\ge$ ni $\\le$).\n",
    "\n",
    "De aquí obtenemos dos tipos de pruebas de hipótesis:\n",
    "\n",
    "* **Unilateral (una sola cola):** cuando $H_1$ es de la forma $<$ o $>$\n",
    "* **Bilateral (dos colas):** cuando $H_1$ es de la forma $\\neq$"
   ]
  },
  {
   "cell_type": "markdown",
   "metadata": {},
   "source": [
    "## Tipos de pruebas de hipótesis y estadístico de contraste\n",
    "\n",
    "Así como los intervalos de confianza se construyen dependiendo del tipo de población (gaussiana o no) y el tamaño de la muestra, las pruebas de hipótesis se definen a través de esta información.\n",
    "\n",
    "Aunque existen muchos casos de estudio, nos limitaremos a los siguientes:\n",
    "\n",
    "* Contraste para la media poblacional para población gaussiana con desviación conocida.\n",
    "* Contraste para la media poblacional para población gaussiana con desviación desconocida.\n",
    "* Contraste para la proporción de una característica presente en una población.\n",
    "\n",
    "Por otra parte, generalmente la regla de decisión de las pruebas de hipótesis se basa en una variable aleatoria asociada a cada caso de prueba de hipótesis. Esta variable aleatoria recibe el nombre de **estadístico de contraste**. Dependiendo del valor de esta variable aleatoria en nuestra muestra es como tomaremos la decisión de rechazar o no $H_0$.\n",
    "\n",
    "***********************************************************\n",
    "***********************************************************\n",
    "\n",
    "**Ejemplo 1.** Más adelante veremos que en el caso en que la característica $X$ de la población es gaussiana y se conoce su desviación $\\sigma$, a la prueba de hipótesis $$\\left\\{\\begin{array}{ll}H_0:\\mbox{ la media poblacional vale exactamente }\\mu_0\\\\H_1:\\mbox{ la media poblacional es menor que }\\mu_0\\end{array}\\right.$$ \n",
    "\n",
    "se le asigna el estadístico de contraste $Z=\\frac{\\overline{X}-\\mu_0}{\\sigma/\\sqrt{n}}$.\n",
    "\n",
    "***********************************************************\n",
    "***********************************************************\n",
    "\n",
    "Además, tal como a la construcción de intervalos de confianza se liga un valor de significancia, y por lo tanto de confianza, también a las pruebas de hipótesis se les asigna un valor de significancia $\\alpha$ definido como **la probablidad de rechazar $H_0$ cuando es verdadera**.\n",
    "\n",
    "Es decir, $$\\begin{array}{ccc}P(\\mbox{rechazar }H_0\\mbox{ siendo verdadera})&=&\\alpha\\\\P(\\mbox{aceptar }H_0\\mbox{ siendo verdadera})&=&1-\\alpha\\end{array}$$"
   ]
  },
  {
   "cell_type": "markdown",
   "metadata": {},
   "source": [
    "# $p$-valores\n",
    "\n",
    "El $p$-valor de una prueba de hipótesis es la probabilidad de que el estadístico de contraste tome un valor mayor que el observado en la muestra si $H_0$ es verdadera. \n",
    "\n",
    "Por ejemplo, si en el **Ejemplo 1** se tiene que $Z$ toma el valor $z_0$ en nuestra muestra, entonces $$p\\mbox{-valor}=P(Z\\ge z_0)$$\n",
    "\n",
    "En cristiano: **¿Qué tan probable es que esté observando lo que estoy observando si la hipótesis nula fuera cierta?** La respuesta a esta pregunta es el $p$-valor.\n",
    "\n",
    "En otras palabras: si el $p$-valor es \"grande\", significa que es muy probable que $H_1$ no sea verdadera, por lo que rechazamos $H_1$ en favor de $H_0$.}\n",
    "\n",
    "Técnicamente hablando, el $p$-valor es la probabilidad de que **lo que estemos observando se deba al azar inherente a nuestro muestreo** (como errores en nuestros instrumentos de medición, falta de interés en responder una encuesta, etcétera). Si el $p$-valor es pequeño, significa que lo que observamos muy probablemente no se debe a efectos aleatorios, sino que tenemos *evidencia siginificativa* de que lo observado se debe a que $H_1$ es falsa.\n",
    "\n",
    "\n",
    "Ahora bien, recordemos que la significancia $\\alpha$ de un contraste de hipótesis representa la probabilidad de rechazar $H_0$ siendo verdadera. Así, por \"$p$-valor pequeño\" entendemos que el $p$-valor es menor que la significancia $\\alpha$ del contraste de hipótesis. En fenómenos de tipo social se suele tomar $\\alpha=0.05$, en tanto que en investigaciones médicas se toma $\\alpha=0.01$.\n",
    "\n",
    "Para un mayor entendimiento del $p$-valor, recomendamos el artículo https://anestesiar.org/2019/idolatrada-pero-incomprendida-el-significado-del-valor-de-p/#:~:text=El%20valor%20de%20p%20indica,ver%20con%20su%20significado%20real."
   ]
  }
 ],
 "metadata": {
  "kernelspec": {
   "display_name": "R",
   "language": "R",
   "name": "ir"
  },
  "language_info": {
   "codemirror_mode": "r",
   "file_extension": ".r",
   "mimetype": "text/x-r-source",
   "name": "R",
   "pygments_lexer": "r",
   "version": "3.6.1"
  }
 },
 "nbformat": 4,
 "nbformat_minor": 4
}
