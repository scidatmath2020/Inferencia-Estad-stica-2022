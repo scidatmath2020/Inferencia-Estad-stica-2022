{
 "cells": [
  {
   "cell_type": "markdown",
   "metadata": {},
   "source": [
    "<img src=\"logo.png\">"
   ]
  },
  {
   "cell_type": "markdown",
   "metadata": {},
   "source": [
    "## Pasos para una regresión lineal.\n",
    "\n",
    "### Planteamiento del modelo\n",
    "\n",
    "**Paso 1. Establecer el modelo**\n",
    "\n",
    "Función|Descripción\n",
    ":--:|:--\n",
    "``resultado_regresion <- lm(nombre_variable_predictora~nombre_variable_1+nombre_variable_2+...+nombre_variable_k,data=tabla)``| Construye el modelo\n",
    "\n",
    "\n"
   ]
  },
  {
   "cell_type": "markdown",
   "metadata": {},
   "source": [
    "**Paso 2. Establecer $R^2$.**\n",
    "\n",
    "El valor de $R^2*100$ representa el porcentaje de la variabilidad total que es explicada por el modelo lineal.\n",
    "\n",
    "Función|Descripción|Decisión\n",
    ":--:|:--|:--\n",
    "``summary(resultado_regresion)``|Muestra un resumen de la regresión|\n",
    "``summary(resultado_regresion)$r.squared``|Muestra el $R^2$| Si es $>0.7$ se considera que vale la pena continuar\n",
    "``summary(resultado_regresion)$adj.r.squared``|Muestra el $R^2$ ajustado| A mayor valor, mejor es el modelo"
   ]
  },
  {
   "cell_type": "markdown",
   "metadata": {},
   "source": [
    "**Paso 3. Elegir el modelo mas simple (solo en el caso de regresión múltiple).**\n",
    "\n",
    "Basado en el Coeficiente de información de Akaike, se elige el modelo con el menor AIC\n",
    "\n",
    "Función|Descripción|Decisión\n",
    ":--:|:--|:--\n",
    "``step(resultado_regresion)``|Indica el mejor modelo|El nuevo modelo es modelo_simplificado que es el *call* del resultado del ``step``\n",
    "\n",
    "Hacemos ``summary(modelo_simplificado)$r.squared`` para ver la nueva $R^2$. "
   ]
  },
  {
   "cell_type": "markdown",
   "metadata": {},
   "source": [
    "## Diagnósticos de regresión\n",
    "\n",
    "**Paso 4. Verificamos la normalidad de los residuos**\n",
    "\n",
    "**Paso 5. Homocedasticidad de los residuos**\n",
    "\n",
    "**Paso 6. Independencia de los residuos**"
   ]
  },
  {
   "cell_type": "markdown",
   "metadata": {},
   "source": [
    "## Intervalos de confianza y significancia\n",
    "\n",
    "Siempre es buena idea incluir los intervalos de confianza para los coeficientes $\\beta_i$ y su significancia.\n",
    "\n",
    "**Paso 7. Intervalos de confianza de los coeficientes $\\beta_i$**\n",
    "\n",
    "Función|Descripción\n",
    ":--|:--:\n",
    "``confint(modelo_simplificado)``|Muestra los intervalos de confianza de los $\\beta$'s\n",
    "\n",
    "\n",
    "**Paso 8. Significación de los coeficientes $\\beta_i$**\n",
    "\n",
    "Función|Descripción|$p$-valor|Significado\n",
    ":--:|:--|:--:|:--\n",
    "``summary(modelo_simplificado)``|¿Algún coeficiente es diferente de cero?|$<0.05$|Vale la pena hacer la regresión\n",
    "``summary(modelo_simplificado)``|¿Qué coeficientes no son cereo?|$<0.05$|El coeficiente respectivo tiene efectos significativos\n",
    "\n",
    "Una vez que tienes los efectos significativos, los enuncias de acuerdo a la siguiente tabla:\n",
    "\n",
    "Símbolo|Significado\n",
    ":--:|:--\n",
    "``*``|la variable $X_i$ tiene efectos significativos\n",
    "``**``|la variable $X_i$ tiene efectos muy significativos\n",
    "``***``|la variable $X_i$ tiene efectos fuertemente significativos\n",
    "``.``|la variable $X_i$ probablemente tiene efectos significativos\n",
    "`` ``|la variable $X_i$ no tiene efectos significativos"
   ]
  },
  {
   "cell_type": "markdown",
   "metadata": {},
   "source": [
    "## Predicciones\n",
    "\n",
    "**Paso 9.**\n",
    "\n",
    "Supongamos que llegan los nuevos $j$ datos que no fueron parte de las observaciones de nuestra tabla original:\n",
    "\n",
    "Individuo|$X_1$|$X_2$|...|$X_k$\n",
    ":--:|:--:|:--:|:--:|:--:\n",
    "1|$x_1^{(1)}$|a\n",
    "2|$x_1^{(2)}$|b\n",
    "...|...|c\n",
    "$j$|$x_1^{(j)}$|c"
   ]
  },
  {
   "cell_type": "markdown",
   "metadata": {},
   "source": [
    "**Problema final.** Se probó un modelo de simulación para el flujo máximo de agua de las cuencas hidrográficas comparando el flujo máximo medido de 10 tormentas con predicciones del flujo máximo obtenido del modelo de simulación. $Q_o$ y $Q_p$ son los flujos máximos observados y pronosticados, respectivamente. Se registraron cuatro variables independientes:\n",
    "\n",
    "* **area.** Área de la cuenca (m^2),\n",
    "\n",
    "* **pendiente.** Pendiente promedio de la cuenca (en porcentaje),\n",
    "\n",
    "* **absorbencia.** Índice de absorbencia superficial (0 = absorbencia completa, 100 = sin absorbencia), y\n",
    "\n",
    "* **intensidad.** Intensidad de pico de lluvia calculada en intervalos de media hora.\n",
    "\n",
    "|$Q_o$ | $Q_p$| area| pendiente|absorbencia |intensidad|\n",
    "|:--:|:--:|:--:|:--:|:--:|:--:|\n",
    "|28|              32|              .03|             3.0|             70|              .6|\n",
    "|112  |           142     |        .03  |           3.0    |         80 |             1.8|\n",
    "|398  |           502      |       .13  |           6.5    |         65 |             2.0|\n",
    "|772  |           790   |          1.00   |         15.0  |          60   |           .4|\n",
    "|2294  |          3075|            1.00  |          15.0|            65|              2.3|\n",
    "|2484   |         3230  |          3.00    |        7.0     |        67 |             1.0|\n",
    "|2586    |        3535   |         5.00 |           6.0 |            62|              .9|\n",
    "|3024   |         4265 |           7.00    |        6.5     |        56      |        1.1|\n",
    "|4179   |         6529   |         7.00    |        6.5     |        56|              1.4|\n",
    "|710    |         935  |           7.00   |         6.5   |          56   |           .7|\n",
    "\n",
    "\n",
    "La tabla la encuentras en [flujos_pronosticados.csv]()\n",
    "\n",
    "\n",
    "Tomemos $Y=\\ln\\left(\\frac{Q_o}{Q_p}\\right)$ como variable dependiente y consideramos la regresión de Y como función de area, pendiente, absorbencia e intensidad. Se pide:\n",
    "\n",
    "**a)** Añadir la columna $Y$ a la tabla (sugerencia: si la columna se llama ``cociente`` y la tabla la llamaste ``mi_data``, entonces ``mi_data$cociente <- log(mi_data$Qo/mi_data$Qp)``) \n",
    "\n",
    "a) Estimar los valores los coeficientes de regresión.\n",
    "\n",
    "b) Hallar un intervalo de confianza al 95% de confianza para los coeficientes de regresión.\n",
    "\n",
    "c) Hallar el coeficiente de regresión y el coeficiente de regresión ajustado.\n",
    "\n",
    "d) ¿Se puede disminuir el número de variables según AIC?\n",
    "\n",
    "e) Estudiar la normalidad de los residuos.\n",
    "\n",
    "f) Estudiar si los residuos son homocedásticos.\n",
    "\n",
    "g) Estudiar la independencia de los residuos.\n",
    "\n",
    "h) Contrastar la linealidad y la aditividad del modelo.\n",
    "\n",
    "i) Hallar las observaciones \"outliers\", los \"leverages\" y las observaciones influyentes.\n",
    "\n"
   ]
  }
 ],
 "metadata": {
  "kernelspec": {
   "display_name": "R",
   "language": "R",
   "name": "ir"
  },
  "language_info": {
   "codemirror_mode": "r",
   "file_extension": ".r",
   "mimetype": "text/x-r-source",
   "name": "R",
   "pygments_lexer": "r",
   "version": "3.6.1"
  }
 },
 "nbformat": 4,
 "nbformat_minor": 4
}
