{
 "cells": [
  {
   "cell_type": "markdown",
   "metadata": {},
   "source": [
    "<img src=\"logo.png\">"
   ]
  },
  {
   "cell_type": "markdown",
   "metadata": {},
   "source": [
    "# Variables aleatorias relacionadas con la gaussiana\n",
    "\n",
    "Existen algunos tipos de distribuciones continuas relacionadas con las gaussianas que son de suma importancia en Estadística. Sin adelantarnos, el Teorema del Límite central (que veremos al final de este capítulo) es la clave de la gran mayoría de los análisis estadísticos, además del hecho de que las combinaciones lineales de gaussianas independientes vuelven a ser gaussianas.\n",
    "\n",
    "De esta manera, en la práctica, *casi siempre* podemos dar argumentos matemáticos que justifican la suposición de modelos gaussianos en nuestros fenómenos; sin embargo, como no todo puede ser felicidad, se debe pagar un cierto precio por hacer esa suposición. \n",
    "\n",
    "Ese precio que se paga es el surgimiento de variables aleatorias íntimamente relacionadas con las gaussianas y que no nacen de manera natural como las variables que hemos estudiado (por ejemplo, la Poissot o la geométrica); es decir, son variables aleatorias que no se presentan en la naturaleza, de modo que son mas bien artificiales, pero su incorporación a la Estadística, tanto en teoría como en la práctica, ayudan a resolver una gran variedad de problemas."
   ]
  },
  {
   "cell_type": "markdown",
   "metadata": {},
   "source": [
    "## V.A. Chi cuadrada ($\\chi^2$)\n",
    "\n",
    "Si $X_1,X_2,...,X_k$ son $k$ gaussianas estándar independientes y $X=X_1^2+X_2^2+...+X_k^2$, se dice que $X$ es una variable aleatoria **chi cuadrada** con $k$ grados de libertad y se denota por $$X\\sim\\chi^2(k)$$ \n",
    "\n",
    "**Ejemplo**\n",
    "\n",
    "Sean $X_1,X_2,...,X_k$ algunas $k$ gaussianas independientes con media $\\mu$ y varianza $\\sigma^2$; $\\overline{X}=\\frac{X_1+X_2+...+X_k}{k}$ y $S=\\sqrt{\\frac{(X_1-\\overline{X})^2+(X_2-\\overline{X})^2+...+(X_k-\\overline{X})^2}{k-1}}$  \n",
    "\n",
    "$$\\frac{k-1}{\\sigma^2}S^2\\sim\\chi^2(k-1)$$\n",
    "\n",
    "**Demostración (para quien le interese)**\n",
    "\n",
    "$$\\frac{k-1}{\\sigma^2}S^2=\\frac{(X_1-\\overline{X})^2+(X_2-\\overline{X})^2+...+(X_k-\\overline{X})^2}{\\sigma^2}=\\left(\\frac{X_1-\\overline{X}}{\\sigma}\\right)^2+...+\\left(\\frac{X_k-\\overline{X}}{\\sigma}\\right)^2$$ y aplica cierta transformación para utilizar el Teorema de Cochran"
   ]
  },
  {
   "cell_type": "markdown",
   "metadata": {},
   "source": [
    "## V.A. t de Student\n",
    "\n",
    "Supongamos que $Z$ es una gaussiana estándar y $V$ es una $\\chi^2(k)$, siendo ambas independientes. Sea $T=\\frac{Z}{\\sqrt{V/k}}$.\n",
    "\n",
    "Se dice que $T$ es una variable aleatoria **t de Student** con $k$ grados de libertad y se denota por \n",
    "\n",
    "$$T\\sim t(k)$$\n",
    "\n",
    "**Ejemplo.**\n",
    "\n",
    "Sean $X_1,X_2,...,X_n$ algunas $n$ gaussianas independientes con media $\\mu$ y varianza $\\sigma^2$; $\\overline{X}=\\frac{X_1+X_2+...+X_n}{n}$ y $S=\\sqrt{\\frac{(X_1-\\overline{X})^2+(X_2-\\overline{X})^2+...+(X_n-\\overline{X})^2}{n-1}}$  \n",
    "\n",
    "Entonces $\\overline{X}\\sim\\mathrm{N}\\left(\\mu,\\frac{\\sigma^2}{n}\\right)$, de donde $\\frac{\\overline{X}-\\mu}{\\sigma/\\sqrt{n}}\\sim\\mathrm{N}(0,1)$; además $\\frac{k-1}{\\sigma^2}S^2\\sim\\chi^2(n-1)$.\n",
    "\n",
    "Se puede verificar que esta gaussiana estándar y esta chi-cuadrada son independientes.\n",
    "\n",
    "Ahora, tomemos $Z=\\frac{\\overline{X}-\\mu}{\\sigma/\\sqrt{n}}$ y $V=\\frac{n-1}{\\sigma^2}S^2$. Entonces $\\frac{Z}{\\sqrt{V/(n-1)}}$ es una $t(n-1)$.\n",
    "\n",
    "Pero \n",
    "\n",
    "$$\\frac{Z}{\\sqrt{V/(n-1)}}=\\frac{\\frac{\\overline{X}-\\mu}{\\sigma/\\sqrt{n}}}{\\sqrt{\\frac{(n-1)S^2}{\\sigma^2(n-1)}}}=\\frac{\\overline{X}-\\mu}{S/\\sqrt{n}}$$\n",
    "\n",
    "Nota que de todos los símbolos que intervienen en la última expresión, el único que no puedes calcular es $\\mu$. Por lo tanto esta expresión se utiliza para construir *intervalos de confianza* con el fin de estimar la media poblacional cuando se desconoce la varianza poblacional de la caraterística $X$."
   ]
  },
  {
   "cell_type": "markdown",
   "metadata": {},
   "source": [
    "## Teorema del límite central\n",
    "\n",
    "Ya hemos insistido algunas de las razones por las cuales las gaussianas son las v.a. mas importantes. A continuación presentamos una más:\n",
    "\n",
    "**Teorema del límite central**\n",
    "\n",
    "Si $X_1,X_2,...,$ son variables aleatorias independientes e idénticamente distribuídas, con $E[X_i]=\\mu$ y $Var(X_i)=\\sigma^2$ (es decir, todas tienen la misma media y la misma varianza), y $X_{r_1},X_{r_2},...,X_{r_n}$ es una muestra cualquiera, entonces para $n$ grande, se tiene que el promedio es aproximadamente $\\mathrm{N}\\left(\\mu,\\frac{\\sigma^2}{n}\\right)$"
   ]
  },
  {
   "cell_type": "markdown",
   "metadata": {},
   "source": [
    "Este resultado tiene implicaciones **importantísimas** en Estadística.\n",
    "\n",
    "Supongamos, por ejemplo, que quieres hacer inferencia sobre una característica $X$ de una población; por ejemplo, quieres saber el valor promedio $\\mu$ de esa característica.\n",
    "\n",
    "Toma una muestra aleatoria $X_1,X_2,...,X_n$ de la característa (es decir, toma una muestra de $n$ individuos y mide la característica $X$ en cada uno de ellos).\n",
    "\n",
    "El Teorema del Límite Central te dice que, sin importar cómo sea la característica, si $n$ es grande, tendrás que el número $\\frac{X_1+X_2+...+X_n}{n}$ *es casi* una $\\mathrm{N}\\left(\\mu,\\frac{\\sigma^2}{n}\\right)$. \n",
    "\n",
    "Por lo tanto $\\frac{\\overline{X}-\\mu}{\\sigma/\\sqrt{n}}$ *es muy parecida* a $\\mathrm{N}(0,1)$."
   ]
  },
  {
   "cell_type": "markdown",
   "metadata": {},
   "source": [
    "**Ejemplo.**\n",
    "\n",
    "Considera el total de delitos cometidos mensualmente desde enero de 2012 hasta diciembre de 2020. Sea $X_i$ el resultado en el mes $i$ (tienes 108 meses). \n",
    "\n",
    "Toma una muestra arbitraria de 15 meses y calcula su promedio (por lo tanto $n=15$).\n",
    "\n",
    "Verificar el Teorema del Límite Central significa que, si repites el experimento anterior varias veces y realizas el histograma o la densidad de los promedios obtenidos, observarás una gaussiana."
   ]
  },
  {
   "cell_type": "code",
   "execution_count": 1,
   "metadata": {},
   "outputs": [
    {
     "name": "stderr",
     "output_type": "stream",
     "text": [
      "Warning message:\n",
      "\"package 'ggplot2' was built under R version 3.6.3\""
     ]
    },
    {
     "data": {
      "image/png": "[encoded data removed]",
      "text/plain": [
       "plot without title"
      ]
     },
     "metadata": {},
     "output_type": "display_data"
    }
   ],
   "source": [
    "setwd(\"C:/Users/hp master/OneDrive/Escritorio/mi_data\")\n",
    "library(ggplot2)\n",
    "\n",
    "delitos_mensuales <- read.csv(\"delitos_mensuales.csv\")\n",
    "mi_data <- data.frame(valor = delitos_mensuales$total,tipo=\"Mensual\")\n",
    "\n",
    "promedios <- data.frame(valor = replicate(1000,mean(delitos_mensuales[sample(1:108,50),]$total)),\n",
    "                        tipo = \"Medias\")\n",
    "\n",
    "mi_data <- rbind(mi_data,promedios)\n",
    "\n",
    "ggplot(data = mi_data) +\n",
    "  geom_density(aes(valor,fill = tipo),alpha=0.5)"
   ]
  }
 ],
 "metadata": {
  "kernelspec": {
   "display_name": "R",
   "language": "R",
   "name": "ir"
  },
  "language_info": {
   "codemirror_mode": "r",
   "file_extension": ".r",
   "mimetype": "text/x-r-source",
   "name": "R",
   "pygments_lexer": "r",
   "version": "3.6.1"
  }
 },
 "nbformat": 4,
 "nbformat_minor": 4
}
